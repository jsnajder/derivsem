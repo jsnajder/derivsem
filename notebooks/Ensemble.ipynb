{
 "cells": [
  {
   "cell_type": "markdown",
   "metadata": {
    "collapsed": true
   },
   "source": [
    "<h1>Ensemble model</h1>\n",
    "\n",
    "\n",
    "Version 1, 17 Jun 2016<br>\n",
    "Jan Šnajder"
   ]
  },
  {
   "cell_type": "code",
   "execution_count": 1,
   "metadata": {
    "collapsed": false
   },
   "outputs": [
    {
     "name": "stdout",
     "output_type": "stream",
     "text": [
      "Populating the interactive namespace from numpy and matplotlib\n"
     ]
    }
   ],
   "source": [
    "import sys\n",
    "\n",
    "import scipy as sp\n",
    "import pandas as pd\n",
    "\n",
    "from composes.matrix.dense_matrix import DenseMatrix\n",
    "from composes.matrix.sparse_matrix import SparseMatrix\n",
    "from composes.semantic_space.space import Space\n",
    "from composes.similarity.cos import CosSimilarity\n",
    "from composes.similarity.similarity import Similarity\n",
    "from composes.utils import io_utils\n",
    "from composes.transformation.scaling.row_normalization import RowNormalization\n",
    "\n",
    "%pylab inline"
   ]
  },
  {
   "cell_type": "code",
   "execution_count": 50,
   "metadata": {
    "collapsed": true
   },
   "outputs": [],
   "source": [
    "proj_path = '/home/jan/b9/derivsem/'\n",
    "src_path = proj_path + 'src/'\n",
    "data_path = '/data/dsm/sdewac/'\n",
    "sys.path.append(src_path)"
   ]
  },
  {
   "cell_type": "code",
   "execution_count": 235,
   "metadata": {
    "collapsed": false
   },
   "outputs": [],
   "source": [
    "from Polysemy import *"
   ]
  },
  {
   "cell_type": "code",
   "execution_count": 67,
   "metadata": {
    "collapsed": false
   },
   "outputs": [
    {
     "name": "stdout",
     "output_type": "stream",
     "text": [
      "The autoreload extension is already loaded. To reload it, use:\n",
      "  %reload_ext autoreload\n"
     ]
    }
   ],
   "source": [
    "%load_ext autoreload\n",
    "%autoreload 2"
   ]
  },
  {
   "cell_type": "markdown",
   "metadata": {},
   "source": [
    "# Distributional spaces"
   ]
  },
  {
   "cell_type": "code",
   "execution_count": 93,
   "metadata": {
    "collapsed": true
   },
   "outputs": [],
   "source": [
    "space = {}"
   ]
  },
  {
   "cell_type": "markdown",
   "metadata": {},
   "source": [
    "### CBOW"
   ]
  },
  {
   "cell_type": "code",
   "execution_count": 116,
   "metadata": {
    "collapsed": false
   },
   "outputs": [],
   "source": [
    "model_file = 'cbow/cbow_300dim_hs0/sdewac.300.cbow.hs0.w2.vsm.pkl'\n",
    "space['cbow-w2'] = io_utils.load(data_path + model_file).apply(RowNormalization(criterion = 'length'))\n",
    "model_file = 'cbow/cbow_300dim_hs0/sdewac.300.cbow.hs0.w5.vsm.pkl'\n",
    "space['cbow-w5'] = io_utils.load(data_path + model_file).apply(RowNormalization(criterion = 'length'))\n",
    "model_file = 'cbow/cbow_300dim_hs0/sdewac.300.cbow.hs0.w10.vsm.pkl'\n",
    "space['cbow-w10'] = io_utils.load(data_path + model_file).apply(RowNormalization(criterion = 'length'))\n",
    "\n",
    "space_cbow = space['cbow-w2']"
   ]
  },
  {
   "cell_type": "code",
   "execution_count": 95,
   "metadata": {
    "collapsed": false
   },
   "outputs": [
    {
     "data": {
      "text/plain": [
       "<composes.matrix.sparse_matrix.SparseMatrix at 0x7f35279130d0>"
      ]
     },
     "execution_count": 95,
     "metadata": {},
     "output_type": "execute_result"
    }
   ],
   "source": [
    "space_cbow.cooccurrence_matrix"
   ]
  },
  {
   "cell_type": "code",
   "execution_count": 62,
   "metadata": {
    "collapsed": false
   },
   "outputs": [
    {
     "data": {
      "text/plain": [
       "composes.matrix.sparse_matrix.SparseMatrix"
      ]
     },
     "execution_count": 62,
     "metadata": {},
     "output_type": "execute_result"
    }
   ],
   "source": [
    "type(space_cbow.cooccurrence_matrix)"
   ]
  },
  {
   "cell_type": "code",
   "execution_count": 11,
   "metadata": {
    "collapsed": false
   },
   "outputs": [
    {
     "data": {
      "text/plain": [
       "True"
      ]
     },
     "execution_count": 11,
     "metadata": {},
     "output_type": "execute_result"
    }
   ],
   "source": [
    "isinstance(space_cbow.cooccurrence_matrix, DenseMatrix)"
   ]
  },
  {
   "cell_type": "code",
   "execution_count": 41,
   "metadata": {
    "collapsed": false
   },
   "outputs": [
    {
     "data": {
      "text/plain": [
       "(289699, 300)"
      ]
     },
     "execution_count": 41,
     "metadata": {},
     "output_type": "execute_result"
    }
   ],
   "source": [
    "sp.shape(space_cbow.cooccurrence_matrix)"
   ]
  },
  {
   "cell_type": "markdown",
   "metadata": {},
   "source": [
    "### Count-based"
   ]
  },
  {
   "cell_type": "code",
   "execution_count": 117,
   "metadata": {
    "collapsed": true
   },
   "outputs": [],
   "source": [
    "model_file = 'count-based/sdewac_2015-11-23/sdewac-mst.prepro.bow-c10k-w5.ppmi.matrix.pkl'\n",
    "space['ppmi'] = io_utils.load(data_path + model_file).apply(RowNormalization(criterion = 'length'))"
   ]
  },
  {
   "cell_type": "code",
   "execution_count": 78,
   "metadata": {
    "collapsed": false
   },
   "outputs": [
    {
     "data": {
      "text/plain": [
       "<composes.matrix.sparse_matrix.SparseMatrix at 0x7f34ace94810>"
      ]
     },
     "execution_count": 78,
     "metadata": {},
     "output_type": "execute_result"
    }
   ],
   "source": [
    "space['ppmi'].cooccurrence_matrix"
   ]
  },
  {
   "cell_type": "code",
   "execution_count": 79,
   "metadata": {
    "collapsed": false
   },
   "outputs": [
    {
     "data": {
      "text/plain": [
       "composes.matrix.sparse_matrix.SparseMatrix"
      ]
     },
     "execution_count": 79,
     "metadata": {},
     "output_type": "execute_result"
    }
   ],
   "source": [
    "type(space['ppmi'].cooccurrence_matrix)"
   ]
  },
  {
   "cell_type": "code",
   "execution_count": 80,
   "metadata": {
    "collapsed": false
   },
   "outputs": [
    {
     "data": {
      "text/plain": [
       "(289393, 10000)"
      ]
     },
     "execution_count": 80,
     "metadata": {},
     "output_type": "execute_result"
    }
   ],
   "source": [
    "sp.shape(space['ppmi'].cooccurrence_matrix)"
   ]
  },
  {
   "cell_type": "markdown",
   "metadata": {},
   "source": [
    "### TODO: COW model"
   ]
  },
  {
   "cell_type": "markdown",
   "metadata": {},
   "source": [
    "### Gur350 check"
   ]
  },
  {
   "cell_type": "code",
   "execution_count": 53,
   "metadata": {
    "collapsed": false
   },
   "outputs": [],
   "source": [
    "gur350_gold = sp.genfromtxt(proj_path + \"data/gur350-gold.txt\", dtype=None, names=('w1', 'w2', 'gold', 'stdev'))"
   ]
  },
  {
   "cell_type": "code",
   "execution_count": 106,
   "metadata": {
    "collapsed": false
   },
   "outputs": [],
   "source": [
    "%%capture\n",
    "predicted_cbow = space_cbow.get_sims(gur350_gold[['w1','w2']], CosSimilarity());"
   ]
  },
  {
   "cell_type": "code",
   "execution_count": 107,
   "metadata": {
    "collapsed": false
   },
   "outputs": [
    {
     "data": {
      "text/plain": [
       "'r = 0.469658, rho = 0.429867, r_cov = 0.655112, rho_cov = 0.686132, cov = 293 (0.84%)'"
      ]
     },
     "execution_count": 107,
     "metadata": {},
     "output_type": "execute_result"
    }
   ],
   "source": [
    "eval_correlation(predicted_cbow, gur350_gold['gold'])"
   ]
  },
  {
   "cell_type": "code",
   "execution_count": 56,
   "metadata": {
    "collapsed": false
   },
   "outputs": [],
   "source": [
    "%%capture\n",
    "predicted_ppmi = space_ppmi.get_sims(gur350_gold[['w1','w2']], CosSimilarity());"
   ]
  },
  {
   "cell_type": "code",
   "execution_count": 57,
   "metadata": {
    "collapsed": false
   },
   "outputs": [
    {
     "data": {
      "text/plain": [
       "'r = 0.469658, rho = 0.429867, r_cov = 0.655112, rho_cov = 0.686132, cov = 293 (0.84%)'"
      ]
     },
     "execution_count": 57,
     "metadata": {},
     "output_type": "execute_result"
    }
   ],
   "source": [
    "evalCorrelation(predicted_ppmi, gur350_gold['gold'])"
   ]
  },
  {
   "cell_type": "code",
   "execution_count": 110,
   "metadata": {
    "collapsed": false
   },
   "outputs": [
    {
     "data": {
      "text/plain": [
       "['cbow-w5', 'ppmi', 'cbow-w10', 'cbow-w2']"
      ]
     },
     "execution_count": 110,
     "metadata": {},
     "output_type": "execute_result"
    }
   ],
   "source": [
    "space.keys()"
   ]
  },
  {
   "cell_type": "code",
   "execution_count": 118,
   "metadata": {
    "collapsed": false
   },
   "outputs": [],
   "source": [
    "%%capture\n",
    "pred = {}\n",
    "for name in space.keys():\n",
    "    pred[name] = space[name].get_sims(gur350_gold[['w1', 'w2']], CosSimilarity());"
   ]
  },
  {
   "cell_type": "code",
   "execution_count": 119,
   "metadata": {
    "collapsed": false
   },
   "outputs": [
    {
     "name": "stdout",
     "output_type": "stream",
     "text": [
      "cbow-w10: r = 0.590681, rho = 0.572978, r_cov = 0.740932, rho_cov = 0.745762, cov = 240 (0.69%)\n",
      "cbow-w2: r = 0.603446, rho = 0.570147, r_cov = 0.769273, rho_cov = 0.782691, cov = 260 (0.74%)\n",
      "cbow-w5: r = 0.598424, rho = 0.570678, r_cov = 0.754332, rho_cov = 0.759574, cov = 248 (0.71%)\n",
      "ppmi: r = 0.469658, rho = 0.429867, r_cov = 0.655112, rho_cov = 0.686132, cov = 293 (0.84%)\n"
     ]
    }
   ],
   "source": [
    "for name in sorted(space.keys()):\n",
    "    print('%s: %s' % (name, evalCorrelation(pred[name], gur350_gold['gold'])))"
   ]
  },
  {
   "cell_type": "markdown",
   "metadata": {},
   "source": [
    "# Data"
   ]
  },
  {
   "cell_type": "code",
   "execution_count": 126,
   "metadata": {
    "collapsed": false
   },
   "outputs": [],
   "source": [
    "pairs_df = pd.read_csv(proj_path + \"data/pairs-all.txt\", sep=' ')"
   ]
  },
  {
   "cell_type": "code",
   "execution_count": 127,
   "metadata": {
    "collapsed": false
   },
   "outputs": [
    {
     "data": {
      "text/html": [
       "<div>\n",
       "<table border=\"1\" class=\"dataframe\">\n",
       "  <thead>\n",
       "    <tr style=\"text-align: right;\">\n",
       "      <th></th>\n",
       "      <th>pattern</th>\n",
       "      <th>word1</th>\n",
       "      <th>word2</th>\n",
       "      <th>polysemy</th>\n",
       "      <th>invCL</th>\n",
       "    </tr>\n",
       "  </thead>\n",
       "  <tbody>\n",
       "    <tr>\n",
       "      <th>0</th>\n",
       "      <td>dAA02</td>\n",
       "      <td>abgedeckt_A</td>\n",
       "      <td>unabgedeckt_A</td>\n",
       "      <td>0</td>\n",
       "      <td>0.051396</td>\n",
       "    </tr>\n",
       "    <tr>\n",
       "      <th>1</th>\n",
       "      <td>dAA02</td>\n",
       "      <td>abhängig_A</td>\n",
       "      <td>unabhängig_A</td>\n",
       "      <td>3</td>\n",
       "      <td>0.494741</td>\n",
       "    </tr>\n",
       "    <tr>\n",
       "      <th>2</th>\n",
       "      <td>dAA02</td>\n",
       "      <td>abkömmlich_A</td>\n",
       "      <td>unabkömmlich_A</td>\n",
       "      <td>0</td>\n",
       "      <td>0.354503</td>\n",
       "    </tr>\n",
       "    <tr>\n",
       "      <th>3</th>\n",
       "      <td>dAA02</td>\n",
       "      <td>absehbar_A</td>\n",
       "      <td>unabsehbar_A</td>\n",
       "      <td>1</td>\n",
       "      <td>0.214439</td>\n",
       "    </tr>\n",
       "    <tr>\n",
       "      <th>4</th>\n",
       "      <td>dAA02</td>\n",
       "      <td>absetzbar_A</td>\n",
       "      <td>unabsetzbar_A</td>\n",
       "      <td>2</td>\n",
       "      <td>0.047764</td>\n",
       "    </tr>\n",
       "    <tr>\n",
       "      <th>5</th>\n",
       "      <td>dAA02</td>\n",
       "      <td>absichtlich_A</td>\n",
       "      <td>unabsichtlich_A</td>\n",
       "      <td>1</td>\n",
       "      <td>0.245723</td>\n",
       "    </tr>\n",
       "    <tr>\n",
       "      <th>6</th>\n",
       "      <td>dAA02</td>\n",
       "      <td>abwendbar_A</td>\n",
       "      <td>unabwendbar_A</td>\n",
       "      <td>0</td>\n",
       "      <td>0.517306</td>\n",
       "    </tr>\n",
       "    <tr>\n",
       "      <th>7</th>\n",
       "      <td>dAA02</td>\n",
       "      <td>achtsam_A</td>\n",
       "      <td>unachtsam_A</td>\n",
       "      <td>1</td>\n",
       "      <td>0.353418</td>\n",
       "    </tr>\n",
       "    <tr>\n",
       "      <th>8</th>\n",
       "      <td>dAA02</td>\n",
       "      <td>ähnlich_A</td>\n",
       "      <td>unähnlich_A</td>\n",
       "      <td>1</td>\n",
       "      <td>0.068213</td>\n",
       "    </tr>\n",
       "    <tr>\n",
       "      <th>9</th>\n",
       "      <td>dAA02</td>\n",
       "      <td>anfechtbar_A</td>\n",
       "      <td>unanfechtbar_A</td>\n",
       "      <td>1</td>\n",
       "      <td>0.502672</td>\n",
       "    </tr>\n",
       "    <tr>\n",
       "      <th>10</th>\n",
       "      <td>dAA02</td>\n",
       "      <td>angebracht_A</td>\n",
       "      <td>unangebracht_A</td>\n",
       "      <td>1</td>\n",
       "      <td>0.240465</td>\n",
       "    </tr>\n",
       "    <tr>\n",
       "      <th>11</th>\n",
       "      <td>dAA02</td>\n",
       "      <td>angefochten_A</td>\n",
       "      <td>unangefochten_A</td>\n",
       "      <td>0</td>\n",
       "      <td>0.084099</td>\n",
       "    </tr>\n",
       "    <tr>\n",
       "      <th>12</th>\n",
       "      <td>dAA02</td>\n",
       "      <td>angekündigt_A</td>\n",
       "      <td>unangekündigt_A</td>\n",
       "      <td>1</td>\n",
       "      <td>0.094637</td>\n",
       "    </tr>\n",
       "    <tr>\n",
       "      <th>13</th>\n",
       "      <td>dAA02</td>\n",
       "      <td>angemeldet_A</td>\n",
       "      <td>unangemeldet_A</td>\n",
       "      <td>1</td>\n",
       "      <td>0.158375</td>\n",
       "    </tr>\n",
       "    <tr>\n",
       "      <th>14</th>\n",
       "      <td>dAA02</td>\n",
       "      <td>angemessen_A</td>\n",
       "      <td>unangemessen_A</td>\n",
       "      <td>1</td>\n",
       "      <td>0.208940</td>\n",
       "    </tr>\n",
       "    <tr>\n",
       "      <th>15</th>\n",
       "      <td>dAA02</td>\n",
       "      <td>angenehm_A</td>\n",
       "      <td>unangenehm_A</td>\n",
       "      <td>2</td>\n",
       "      <td>0.347929</td>\n",
       "    </tr>\n",
       "    <tr>\n",
       "      <th>16</th>\n",
       "      <td>dAA02</td>\n",
       "      <td>angepaßt_A</td>\n",
       "      <td>unangepaßt_A</td>\n",
       "      <td>0</td>\n",
       "      <td>0.188257</td>\n",
       "    </tr>\n",
       "    <tr>\n",
       "      <th>17</th>\n",
       "      <td>dAA02</td>\n",
       "      <td>angreifbar_A</td>\n",
       "      <td>unangreifbar_A</td>\n",
       "      <td>1</td>\n",
       "      <td>0.366556</td>\n",
       "    </tr>\n",
       "    <tr>\n",
       "      <th>18</th>\n",
       "      <td>dAA02</td>\n",
       "      <td>annehmbar_A</td>\n",
       "      <td>unannehmbar_A</td>\n",
       "      <td>1</td>\n",
       "      <td>0.300041</td>\n",
       "    </tr>\n",
       "    <tr>\n",
       "      <th>19</th>\n",
       "      <td>dAA02</td>\n",
       "      <td>ansehnlich_A</td>\n",
       "      <td>unansehnlich_A</td>\n",
       "      <td>2</td>\n",
       "      <td>0.266209</td>\n",
       "    </tr>\n",
       "    <tr>\n",
       "      <th>20</th>\n",
       "      <td>dAA02</td>\n",
       "      <td>anständig_A</td>\n",
       "      <td>unanständig_A</td>\n",
       "      <td>1</td>\n",
       "      <td>0.224774</td>\n",
       "    </tr>\n",
       "    <tr>\n",
       "      <th>21</th>\n",
       "      <td>dAA02</td>\n",
       "      <td>anstößig_A</td>\n",
       "      <td>unanstößig_A</td>\n",
       "      <td>1</td>\n",
       "      <td>0.034135</td>\n",
       "    </tr>\n",
       "    <tr>\n",
       "      <th>22</th>\n",
       "      <td>dAA02</td>\n",
       "      <td>appetitlich_A</td>\n",
       "      <td>unappetitlich_A</td>\n",
       "      <td>1</td>\n",
       "      <td>0.338676</td>\n",
       "    </tr>\n",
       "    <tr>\n",
       "      <th>23</th>\n",
       "      <td>dAA02</td>\n",
       "      <td>artig_A</td>\n",
       "      <td>unartig_A</td>\n",
       "      <td>1</td>\n",
       "      <td>0.198118</td>\n",
       "    </tr>\n",
       "    <tr>\n",
       "      <th>24</th>\n",
       "      <td>dAA02</td>\n",
       "      <td>artikuliert_A</td>\n",
       "      <td>unartikuliert_A</td>\n",
       "      <td>0</td>\n",
       "      <td>0.270029</td>\n",
       "    </tr>\n",
       "    <tr>\n",
       "      <th>25</th>\n",
       "      <td>dAA02</td>\n",
       "      <td>ästhetisch_A</td>\n",
       "      <td>unästhetisch_A</td>\n",
       "      <td>2</td>\n",
       "      <td>0.052540</td>\n",
       "    </tr>\n",
       "    <tr>\n",
       "      <th>26</th>\n",
       "      <td>dAA02</td>\n",
       "      <td>attraktiv_A</td>\n",
       "      <td>unattraktiv_A</td>\n",
       "      <td>3</td>\n",
       "      <td>0.118824</td>\n",
       "    </tr>\n",
       "    <tr>\n",
       "      <th>27</th>\n",
       "      <td>dAA02</td>\n",
       "      <td>aufdringlich_A</td>\n",
       "      <td>unaufdringlich_A</td>\n",
       "      <td>1</td>\n",
       "      <td>0.391674</td>\n",
       "    </tr>\n",
       "    <tr>\n",
       "      <th>28</th>\n",
       "      <td>dAA02</td>\n",
       "      <td>auffällig_A</td>\n",
       "      <td>unauffällig_A</td>\n",
       "      <td>2</td>\n",
       "      <td>0.333432</td>\n",
       "    </tr>\n",
       "    <tr>\n",
       "      <th>29</th>\n",
       "      <td>dAA02</td>\n",
       "      <td>auffindbar_A</td>\n",
       "      <td>unauffindbar_A</td>\n",
       "      <td>1</td>\n",
       "      <td>0.282823</td>\n",
       "    </tr>\n",
       "    <tr>\n",
       "      <th>...</th>\n",
       "      <td>...</td>\n",
       "      <td>...</td>\n",
       "      <td>...</td>\n",
       "      <td>...</td>\n",
       "      <td>...</td>\n",
       "    </tr>\n",
       "    <tr>\n",
       "      <th>25527</th>\n",
       "      <td>dVV34</td>\n",
       "      <td>herstellen_V</td>\n",
       "      <td>wiederherstellen_V</td>\n",
       "      <td>3</td>\n",
       "      <td>0.229714</td>\n",
       "    </tr>\n",
       "    <tr>\n",
       "      <th>25528</th>\n",
       "      <td>dVV34</td>\n",
       "      <td>holen_V</td>\n",
       "      <td>wiederholen_V</td>\n",
       "      <td>5</td>\n",
       "      <td>0.223623</td>\n",
       "    </tr>\n",
       "    <tr>\n",
       "      <th>25529</th>\n",
       "      <td>dVV34</td>\n",
       "      <td>hören_V</td>\n",
       "      <td>wiederhören_V</td>\n",
       "      <td>8</td>\n",
       "      <td>0.008137</td>\n",
       "    </tr>\n",
       "    <tr>\n",
       "      <th>25530</th>\n",
       "      <td>dVV34</td>\n",
       "      <td>kauen_V</td>\n",
       "      <td>wiederkauen_V</td>\n",
       "      <td>1</td>\n",
       "      <td>0.041377</td>\n",
       "    </tr>\n",
       "    <tr>\n",
       "      <th>25531</th>\n",
       "      <td>dVV34</td>\n",
       "      <td>käuen_V</td>\n",
       "      <td>wiederkäuen_V</td>\n",
       "      <td>0</td>\n",
       "      <td>0.428113</td>\n",
       "    </tr>\n",
       "    <tr>\n",
       "      <th>25532</th>\n",
       "      <td>dVV34</td>\n",
       "      <td>kehren_V</td>\n",
       "      <td>wiederkehren_V</td>\n",
       "      <td>3</td>\n",
       "      <td>0.124040</td>\n",
       "    </tr>\n",
       "    <tr>\n",
       "      <th>25533</th>\n",
       "      <td>dVV34</td>\n",
       "      <td>kommen_V</td>\n",
       "      <td>wiederkommen_V</td>\n",
       "      <td>17</td>\n",
       "      <td>0.041664</td>\n",
       "    </tr>\n",
       "    <tr>\n",
       "      <th>25534</th>\n",
       "      <td>dVV34</td>\n",
       "      <td>kriegen_V</td>\n",
       "      <td>wiederkriegen_V</td>\n",
       "      <td>4</td>\n",
       "      <td>0.028947</td>\n",
       "    </tr>\n",
       "    <tr>\n",
       "      <th>25535</th>\n",
       "      <td>dVV34</td>\n",
       "      <td>legen_V</td>\n",
       "      <td>wiederlegen_V</td>\n",
       "      <td>7</td>\n",
       "      <td>0.028911</td>\n",
       "    </tr>\n",
       "    <tr>\n",
       "      <th>25536</th>\n",
       "      <td>dVV34</td>\n",
       "      <td>lesen_V</td>\n",
       "      <td>wiederlesen_V</td>\n",
       "      <td>3</td>\n",
       "      <td>0.017286</td>\n",
       "    </tr>\n",
       "    <tr>\n",
       "      <th>25537</th>\n",
       "      <td>dVV34</td>\n",
       "      <td>lieben_V</td>\n",
       "      <td>wiederlieben_V</td>\n",
       "      <td>2</td>\n",
       "      <td>0.015112</td>\n",
       "    </tr>\n",
       "    <tr>\n",
       "      <th>25538</th>\n",
       "      <td>dVV34</td>\n",
       "      <td>rufen_V</td>\n",
       "      <td>wiederrufen_V</td>\n",
       "      <td>5</td>\n",
       "      <td>0.022763</td>\n",
       "    </tr>\n",
       "    <tr>\n",
       "      <th>25539</th>\n",
       "      <td>dVV34</td>\n",
       "      <td>schenken_V</td>\n",
       "      <td>wiederschenken_V</td>\n",
       "      <td>2</td>\n",
       "      <td>0.022919</td>\n",
       "    </tr>\n",
       "    <tr>\n",
       "      <th>25540</th>\n",
       "      <td>dVV34</td>\n",
       "      <td>sehen_V</td>\n",
       "      <td>wiedersehen_V</td>\n",
       "      <td>11</td>\n",
       "      <td>0.052002</td>\n",
       "    </tr>\n",
       "    <tr>\n",
       "      <th>25541</th>\n",
       "      <td>dVV34</td>\n",
       "      <td>setzen_V</td>\n",
       "      <td>wiedersetzen_V</td>\n",
       "      <td>14</td>\n",
       "      <td>0.017709</td>\n",
       "    </tr>\n",
       "    <tr>\n",
       "      <th>25542</th>\n",
       "      <td>dVV34</td>\n",
       "      <td>sprechen_V</td>\n",
       "      <td>wiedersprechen_V</td>\n",
       "      <td>4</td>\n",
       "      <td>0.040816</td>\n",
       "    </tr>\n",
       "    <tr>\n",
       "      <th>25543</th>\n",
       "      <td>dVV34</td>\n",
       "      <td>stehen_V</td>\n",
       "      <td>wiederstehen_V</td>\n",
       "      <td>9</td>\n",
       "      <td>0.014299</td>\n",
       "    </tr>\n",
       "    <tr>\n",
       "      <th>25544</th>\n",
       "      <td>dVV34</td>\n",
       "      <td>suchen_V</td>\n",
       "      <td>wiedersuchen_V</td>\n",
       "      <td>3</td>\n",
       "      <td>0.006167</td>\n",
       "    </tr>\n",
       "    <tr>\n",
       "      <th>25545</th>\n",
       "      <td>dVV34</td>\n",
       "      <td>treffen_V</td>\n",
       "      <td>wiedertreffen_V</td>\n",
       "      <td>11</td>\n",
       "      <td>0.041559</td>\n",
       "    </tr>\n",
       "    <tr>\n",
       "      <th>25546</th>\n",
       "      <td>dVV34</td>\n",
       "      <td>verarbeiten_V</td>\n",
       "      <td>wiederverarbeiten_V</td>\n",
       "      <td>3</td>\n",
       "      <td>0.014804</td>\n",
       "    </tr>\n",
       "    <tr>\n",
       "      <th>25547</th>\n",
       "      <td>dVV34</td>\n",
       "      <td>vereinen_V</td>\n",
       "      <td>wiedervereinen_V</td>\n",
       "      <td>1</td>\n",
       "      <td>0.072188</td>\n",
       "    </tr>\n",
       "    <tr>\n",
       "      <th>25548</th>\n",
       "      <td>dVV34</td>\n",
       "      <td>vereinigen_V</td>\n",
       "      <td>wiedervereinigen_V</td>\n",
       "      <td>2</td>\n",
       "      <td>0.135303</td>\n",
       "    </tr>\n",
       "    <tr>\n",
       "      <th>25549</th>\n",
       "      <td>dVV34</td>\n",
       "      <td>verheiraten_V</td>\n",
       "      <td>wiederverheiraten_V</td>\n",
       "      <td>2</td>\n",
       "      <td>0.059023</td>\n",
       "    </tr>\n",
       "    <tr>\n",
       "      <th>25550</th>\n",
       "      <td>dVV34</td>\n",
       "      <td>verkaufen_V</td>\n",
       "      <td>wiederverkaufen_V</td>\n",
       "      <td>5</td>\n",
       "      <td>0.010589</td>\n",
       "    </tr>\n",
       "    <tr>\n",
       "      <th>25551</th>\n",
       "      <td>dVV34</td>\n",
       "      <td>veröffentlichen_V</td>\n",
       "      <td>wiederveröffentlichen_V</td>\n",
       "      <td>1</td>\n",
       "      <td>0.030979</td>\n",
       "    </tr>\n",
       "    <tr>\n",
       "      <th>25552</th>\n",
       "      <td>dVV34</td>\n",
       "      <td>verwenden_V</td>\n",
       "      <td>wiederverwenden_V</td>\n",
       "      <td>3</td>\n",
       "      <td>0.057190</td>\n",
       "    </tr>\n",
       "    <tr>\n",
       "      <th>25553</th>\n",
       "      <td>dVV34</td>\n",
       "      <td>verwerten_V</td>\n",
       "      <td>wiederverwerten_V</td>\n",
       "      <td>1</td>\n",
       "      <td>0.149020</td>\n",
       "    </tr>\n",
       "    <tr>\n",
       "      <th>25554</th>\n",
       "      <td>dVV34</td>\n",
       "      <td>wählen_V</td>\n",
       "      <td>wiederwählen_V</td>\n",
       "      <td>3</td>\n",
       "      <td>0.072228</td>\n",
       "    </tr>\n",
       "    <tr>\n",
       "      <th>25555</th>\n",
       "      <td>dVV34</td>\n",
       "      <td>wünschen_V</td>\n",
       "      <td>wiederwünschen_V</td>\n",
       "      <td>7</td>\n",
       "      <td>0.003870</td>\n",
       "    </tr>\n",
       "    <tr>\n",
       "      <th>25556</th>\n",
       "      <td>dVV34</td>\n",
       "      <td>zuhaben_V</td>\n",
       "      <td>wiederzuhaben_V</td>\n",
       "      <td>1</td>\n",
       "      <td>0.154786</td>\n",
       "    </tr>\n",
       "  </tbody>\n",
       "</table>\n",
       "<p>25557 rows × 5 columns</p>\n",
       "</div>"
      ],
      "text/plain": [
       "      pattern              word1                    word2  polysemy     invCL\n",
       "0       dAA02        abgedeckt_A            unabgedeckt_A         0  0.051396\n",
       "1       dAA02         abhängig_A             unabhängig_A         3  0.494741\n",
       "2       dAA02       abkömmlich_A           unabkömmlich_A         0  0.354503\n",
       "3       dAA02         absehbar_A             unabsehbar_A         1  0.214439\n",
       "4       dAA02        absetzbar_A            unabsetzbar_A         2  0.047764\n",
       "5       dAA02      absichtlich_A          unabsichtlich_A         1  0.245723\n",
       "6       dAA02        abwendbar_A            unabwendbar_A         0  0.517306\n",
       "7       dAA02          achtsam_A              unachtsam_A         1  0.353418\n",
       "8       dAA02          ähnlich_A              unähnlich_A         1  0.068213\n",
       "9       dAA02       anfechtbar_A           unanfechtbar_A         1  0.502672\n",
       "10      dAA02       angebracht_A           unangebracht_A         1  0.240465\n",
       "11      dAA02      angefochten_A          unangefochten_A         0  0.084099\n",
       "12      dAA02      angekündigt_A          unangekündigt_A         1  0.094637\n",
       "13      dAA02       angemeldet_A           unangemeldet_A         1  0.158375\n",
       "14      dAA02       angemessen_A           unangemessen_A         1  0.208940\n",
       "15      dAA02         angenehm_A             unangenehm_A         2  0.347929\n",
       "16      dAA02         angepaßt_A             unangepaßt_A         0  0.188257\n",
       "17      dAA02       angreifbar_A           unangreifbar_A         1  0.366556\n",
       "18      dAA02        annehmbar_A            unannehmbar_A         1  0.300041\n",
       "19      dAA02       ansehnlich_A           unansehnlich_A         2  0.266209\n",
       "20      dAA02        anständig_A            unanständig_A         1  0.224774\n",
       "21      dAA02         anstößig_A             unanstößig_A         1  0.034135\n",
       "22      dAA02      appetitlich_A          unappetitlich_A         1  0.338676\n",
       "23      dAA02            artig_A                unartig_A         1  0.198118\n",
       "24      dAA02      artikuliert_A          unartikuliert_A         0  0.270029\n",
       "25      dAA02       ästhetisch_A           unästhetisch_A         2  0.052540\n",
       "26      dAA02        attraktiv_A            unattraktiv_A         3  0.118824\n",
       "27      dAA02     aufdringlich_A         unaufdringlich_A         1  0.391674\n",
       "28      dAA02        auffällig_A            unauffällig_A         2  0.333432\n",
       "29      dAA02       auffindbar_A           unauffindbar_A         1  0.282823\n",
       "...       ...                ...                      ...       ...       ...\n",
       "25527   dVV34       herstellen_V       wiederherstellen_V         3  0.229714\n",
       "25528   dVV34            holen_V            wiederholen_V         5  0.223623\n",
       "25529   dVV34            hören_V            wiederhören_V         8  0.008137\n",
       "25530   dVV34            kauen_V            wiederkauen_V         1  0.041377\n",
       "25531   dVV34            käuen_V            wiederkäuen_V         0  0.428113\n",
       "25532   dVV34           kehren_V           wiederkehren_V         3  0.124040\n",
       "25533   dVV34           kommen_V           wiederkommen_V        17  0.041664\n",
       "25534   dVV34          kriegen_V          wiederkriegen_V         4  0.028947\n",
       "25535   dVV34            legen_V            wiederlegen_V         7  0.028911\n",
       "25536   dVV34            lesen_V            wiederlesen_V         3  0.017286\n",
       "25537   dVV34           lieben_V           wiederlieben_V         2  0.015112\n",
       "25538   dVV34            rufen_V            wiederrufen_V         5  0.022763\n",
       "25539   dVV34         schenken_V         wiederschenken_V         2  0.022919\n",
       "25540   dVV34            sehen_V            wiedersehen_V        11  0.052002\n",
       "25541   dVV34           setzen_V           wiedersetzen_V        14  0.017709\n",
       "25542   dVV34         sprechen_V         wiedersprechen_V         4  0.040816\n",
       "25543   dVV34           stehen_V           wiederstehen_V         9  0.014299\n",
       "25544   dVV34           suchen_V           wiedersuchen_V         3  0.006167\n",
       "25545   dVV34          treffen_V          wiedertreffen_V        11  0.041559\n",
       "25546   dVV34      verarbeiten_V      wiederverarbeiten_V         3  0.014804\n",
       "25547   dVV34         vereinen_V         wiedervereinen_V         1  0.072188\n",
       "25548   dVV34       vereinigen_V       wiedervereinigen_V         2  0.135303\n",
       "25549   dVV34      verheiraten_V      wiederverheiraten_V         2  0.059023\n",
       "25550   dVV34        verkaufen_V        wiederverkaufen_V         5  0.010589\n",
       "25551   dVV34  veröffentlichen_V  wiederveröffentlichen_V         1  0.030979\n",
       "25552   dVV34        verwenden_V        wiederverwenden_V         3  0.057190\n",
       "25553   dVV34        verwerten_V        wiederverwerten_V         1  0.149020\n",
       "25554   dVV34           wählen_V           wiederwählen_V         3  0.072228\n",
       "25555   dVV34         wünschen_V         wiederwünschen_V         7  0.003870\n",
       "25556   dVV34          zuhaben_V          wiederzuhaben_V         1  0.154786\n",
       "\n",
       "[25557 rows x 5 columns]"
      ]
     },
     "execution_count": 127,
     "metadata": {},
     "output_type": "execute_result"
    }
   ],
   "source": [
    "pairs_df"
   ]
  },
  {
   "cell_type": "code",
   "execution_count": 143,
   "metadata": {
    "collapsed": false
   },
   "outputs": [],
   "source": [
    "def get_pairs(pairs_df, pattern):\n",
    "    return pairs_df[pairs_df['pattern'] == pattern][['word1', 'word2']].values.tolist()"
   ]
  },
  {
   "cell_type": "code",
   "execution_count": null,
   "metadata": {
    "collapsed": true
   },
   "outputs": [],
   "source": []
  },
  {
   "cell_type": "code",
   "execution_count": null,
   "metadata": {
    "collapsed": true
   },
   "outputs": [],
   "source": [
    "# Split into 50-30-20"
   ]
  },
  {
   "cell_type": "markdown",
   "metadata": {},
   "source": [
    "# Model predictions"
   ]
  },
  {
   "cell_type": "code",
   "execution_count": null,
   "metadata": {
    "collapsed": true
   },
   "outputs": [],
   "source": [
    "# TODO: lex fun"
   ]
  },
  {
   "cell_type": "code",
   "execution_count": null,
   "metadata": {
    "collapsed": true
   },
   "outputs": [],
   "source": [
    "# TODO: hubness"
   ]
  },
  {
   "cell_type": "code",
   "execution_count": null,
   "metadata": {
    "collapsed": true
   },
   "outputs": [],
   "source": []
  },
  {
   "cell_type": "code",
   "execution_count": null,
   "metadata": {
    "collapsed": true
   },
   "outputs": [],
   "source": []
  },
  {
   "cell_type": "code",
   "execution_count": 123,
   "metadata": {
    "collapsed": false
   },
   "outputs": [],
   "source": [
    "model = {}\n",
    "for s in space.keys():\n",
    "    model['baseline-' + s] = BaselineModel(space[s])\n",
    "    model['add-' + s] = AdditiveModel(space[s])"
   ]
  },
  {
   "cell_type": "code",
   "execution_count": 144,
   "metadata": {
    "collapsed": true
   },
   "outputs": [],
   "source": []
  },
  {
   "cell_type": "code",
   "execution_count": 149,
   "metadata": {
    "collapsed": true
   },
   "outputs": [],
   "source": [
    "m = BaselineModel(space['cbow-w5'])\n",
    "pairs = get_train_pairs(pairs_df, 'dAA02')\n",
    "m.fit(pairs)"
   ]
  },
  {
   "cell_type": "code",
   "execution_count": 160,
   "metadata": {
    "collapsed": false,
    "scrolled": true
   },
   "outputs": [
    {
     "name": "stdout",
     "output_type": "stream",
     "text": [
      "abgedeckt_A: correct target 'unabgedeckt_A' is at rank 43 out of 100\n",
      "abhängig_A: correct target 'unabhängig_A' is at rank 4 out of 100\n",
      "abkömmlich_A: correct target 'unabkömmlich_A' is at rank 78 out of 100\n",
      "absehbar_A: correct target 'unabsehbar_A' is at rank 11 out of 100\n",
      "absetzbar_A: correct target 'unabsetzbar_A' is at rank 0 out of 100\n",
      "absichtlich_A: correct target 'unabsichtlich_A' is at rank 2 out of 100\n",
      "abwendbar_A: correct target 'unabwendbar_A' is at rank 5 out of 100\n",
      "achtsam_A: correct target 'unachtsam_A' is at rank 0 out of 100\n",
      "ähnlich_A: correct target 'unähnlich_A' is at rank 7 out of 100\n",
      "anfechtbar_A: correct target 'unanfechtbar_A' is at rank 3 out of 100\n",
      "angebracht_A: correct target 'unangebracht_A' is at rank 0 out of 100\n",
      "angefochten_A: correct target 'unangefochten_A' is at rank 0 out of 100\n",
      "angekündigt_A: correct target 'unangekündigt_A' is at rank 0 out of 100\n",
      "angemeldet_A: correct target 'unangemeldet_A' is at rank 24 out of 100\n",
      "angemessen_A: correct target 'unangemessen_A' is at rank 30 out of 100\n",
      "angenehm_A: correct target 'unangenehm_A' is at rank 4 out of 100\n",
      "angepaßt_A: correct target 'unangepaßt_A' is at rank 0 out of 100\n",
      "angreifbar_A: correct target 'unangreifbar_A' is at rank 3 out of 100\n",
      "annehmbar_A: correct target 'unannehmbar_A' is at rank 14 out of 100\n",
      "ansehnlich_A: correct target 'unansehnlich_A' is at rank 25 out of 100\n",
      "anständig_A: correct target 'unanständig_A' is at rank 4 out of 100\n",
      "anstößig_A: correct target 'unanstößig_A' is at rank 0 out of 100\n",
      "appetitlich_A: correct target 'unappetitlich_A' is at rank 74 out of 100\n",
      "artig_A: correct target 'unartig_A' is at rank 4 out of 100\n",
      "artikuliert_A: correct target 'unartikuliert_A' is at rank 0 out of 100\n",
      "ästhetisch_A: correct target 'unästhetisch_A' is at rank 0 out of 100\n",
      "attraktiv_A: correct target 'unattraktiv_A' is at rank 3 out of 100\n",
      "aufdringlich_A: correct target 'unaufdringlich_A' is at rank 9 out of 100\n",
      "auffällig_A: correct target 'unauffällig_A' is at rank 3 out of 100\n",
      "auffindbar_A: correct target 'unauffindbar_A' is at rank 15 out of 100\n",
      "aufgefordert_A: correct target 'unaufgefordert_A' is at rank 0 out of 100\n",
      "aufgeklärt_A: correct target 'unaufgeklärt_A' is at rank 0 out of 100\n",
      "aufmerksam_A: correct target 'unaufmerksam_A' is at rank 0 out of 100\n",
      "aufrichtig_A: correct target 'unaufrichtig_A' is at rank 7 out of 100\n",
      "ausführbar_A: correct target 'unausführbar_A' is at rank 0 out of 100\n",
      "ausgebildet_A: correct target 'unausgebildet_A' is at rank 15 out of 100\n",
      "ausgefüllt_A: correct target 'unausgefüllt_A' is at rank 18 out of 100\n",
      "ausgeglichen_A: correct target 'unausgeglichen_A' is at rank 3 out of 100\n",
      "ausgenutzt_A: correct target 'unausgenutzt_A' is at rank 0 out of 100\n",
      "ausgeschlafen_A: correct target 'unausgeschlafen_A' is at rank 12 out of 100\n",
      "ausgesetzt_A: correct target 'unausgesetzt_A' is at rank 0 out of 100\n",
      "ausgesprochen_A: correct target 'unausgesprochen_A' is at rank 0 out of 100\n",
      "ausgewogen_A: correct target 'unausgewogen_A' is at rank 6 out of 100\n",
      "aussprechbar_A: correct target 'unaussprechbar_A' is at rank 69 out of 100\n",
      "barmherzig_A: correct target 'unbarmherzig_A' is at rank 0 out of 100\n",
      "beabsichtigt_A: correct target 'unbeabsichtigt_A' is at rank 0 out of 100\n",
      "beachtet_A: correct target 'unbeachtet_A' is at rank 0 out of 100\n",
      "beachtlich_A: correct target 'unbeachtlich_A' is at rank 0 out of 100\n",
      "beanstandet_A: correct target 'unbeanstandet_A' is at rank 18 out of 100\n",
      "beantwortet_A: correct target 'unbeantwortet_A' is at rank 4 out of 100\n",
      "beaufsichtigt_A: correct target 'unbeaufsichtigt_A' is at rank 0 out of 100\n",
      "bebaut_A: correct target 'unbebaut_A' is at rank 2 out of 100\n",
      "bedacht_A: correct target 'unbedacht_A' is at rank 0 out of 100\n",
      "bedenklich_A: correct target 'unbedenklich_A' is at rank 2 out of 100\n",
      "bedeutend_A: correct target 'unbedeutend_A' is at rank 0 out of 100\n",
      "bedient_A: correct target 'unbedient_A' is at rank 13 out of 100\n",
      "bedingt_A: correct target 'unbedingt_A' is at rank 0 out of 100\n",
      "beeindruckt_A: correct target 'unbeeindruckt_A' is at rank 0 out of 100\n",
      "beeinflußbar_A: correct target 'unbeeinflußbar_A' is at rank 3 out of 100\n",
      "beeinflußt_A: correct target 'unbeeinflußt_A' is at rank 78 out of 100\n",
      "befahrbar_A: correct target 'unbefahrbar_A' is at rank 12 out of 100\n",
      "befangen_A: correct target 'unbefangen_A' is at rank 55 out of 100\n",
      "befleckt_A: correct target 'unbefleckt_A' is at rank 28 out of 100\n",
      "befriedigend_A: correct target 'unbefriedigend_A' is at rank 3 out of 100\n",
      "befriedigt_A: correct target 'unbefriedigt_A' is at rank 2 out of 100\n",
      "befristet_A: correct target 'unbefristet_A' is at rank 2 out of 100\n",
      "befugt_A: correct target 'unbefugt_A' is at rank 24 out of 100\n",
      "begabt_A: correct target 'unbegabt_A' is at rank 4 out of 100\n",
      "begleitet_A: correct target 'unbegleitet_A' is at rank 0 out of 100\n",
      "begreiflich_A: correct target 'unbegreiflich_A' is at rank 3 out of 100\n",
      "begrenzt_A: correct target 'unbegrenzt_A' is at rank 3 out of 100\n",
      "begründet_A: correct target 'unbegründet_A' is at rank 46 out of 100\n",
      "behaart_A: correct target 'unbehaart_A' is at rank 2 out of 100\n",
      "behaglich_A: correct target 'unbehaglich_A' is at rank 80 out of 100\n",
      "behandelt_A: correct target 'unbehandelt_A' is at rank 5 out of 100\n",
      "behauen_A: correct target 'unbehauen_A' is at rank 2 out of 100\n",
      "beheizt_A: correct target 'unbeheizt_A' is at rank 2 out of 100\n",
      "behelligt_A: correct target 'unbehelligt_A' is at rank 0 out of 100\n",
      "beherrscht_A: correct target 'unbeherrscht_A' is at rank 0 out of 100\n",
      "bekannt_A: correct target 'unbekannt_A' is at rank 10 out of 100\n",
      "bekleidet_A: correct target 'unbekleidet_A' is at rank 2 out of 100\n",
      "bekümmert_A: correct target 'unbekümmert_A' is at rank 0 out of 100\n",
      "belastet_A: correct target 'unbelastet_A' is at rank 3 out of 100\n",
      "belästigt_A: correct target 'unbelästigt_A' is at rank 0 out of 100\n",
      "belebt_A: correct target 'unbelebt_A' is at rank 2 out of 100\n",
      "belehrbar_A: correct target 'unbelehrbar_A' is at rank 79 out of 100\n",
      "beleuchtet_A: correct target 'unbeleuchtet_A' is at rank 8 out of 100\n",
      "beliebt_A: correct target 'unbeliebt_A' is at rank 0 out of 100\n",
      "bemannt_A: correct target 'unbemannt_A' is at rank 2 out of 100\n",
      "bemerkt_A: correct target 'unbemerkt_A' is at rank 0 out of 100\n",
      "bemittelt_A: correct target 'unbemittelt_A' is at rank 2 out of 100\n",
      "benommen_A: correct target 'unbenommen_A' is at rank 0 out of 100\n",
      "benutzbar_A: correct target 'unbenutzbar_A' is at rank 2 out of 100\n",
      "benutzt_A: correct target 'unbenutzt_A' is at rank 21 out of 100\n",
      "benützt_A: correct target 'unbenützt_A' is at rank 0 out of 100\n",
      "beobachtet_A: correct target 'unbeobachtet_A' is at rank 0 out of 100\n",
      "bequem_A: correct target 'unbequem_A' is at rank 0 out of 100\n",
      "berechenbar_A: correct target 'unberechenbar_A' is at rank 15 out of 100\n",
      "berechtigt_A: correct target 'unberechtigt_A' is at rank 2 out of 100\n",
      "berücksichtigt_A: correct target 'unberücksichtigt_A' is at rank 4 out of 100\n",
      "berührt_A: correct target 'unberührt_A' is at rank 32 out of 100\n",
      "beschädigt_A: correct target 'unbeschädigt_A' is at rank 6 out of 100\n",
      "beschäftigt_A: correct target 'unbeschäftigt_A' is at rank 0 out of 100\n",
      "bescheiden_A: correct target 'unbescheiden_A' is at rank 18 out of 100\n",
      "beschrankt_A: correct target 'unbeschrankt_A' is at rank 2 out of 100\n",
      "beschränkt_A: correct target 'unbeschränkt_A' is at rank 2 out of 100\n",
      "beschrieben_A: correct target 'unbeschrieben_A' is at rank 0 out of 100\n",
      "beschwert_A: correct target 'unbeschwert_A' is at rank 0 out of 100\n",
      "beseelt_A: correct target 'unbeseelt_A' is at rank 2 out of 100\n",
      "besetzt_A: correct target 'unbesetzt_A' is at rank 78 out of 100\n",
      "besiegt_A: correct target 'unbesiegt_A' is at rank 9 out of 100\n",
      "besonnen_A: correct target 'unbesonnen_A' is at rank 6 out of 100\n",
      "besorgt_A: correct target 'unbesorgt_A' is at rank 0 out of 100\n",
      "beständig_A: correct target 'unbeständig_A' is at rank 11 out of 100\n",
      "bestätigt_A: correct target 'unbestätigt_A' is at rank 38 out of 100\n",
      "bestechlich_A: correct target 'unbestechlich_A' is at rank 81 out of 100\n",
      "bestellt_A: correct target 'unbestellt_A' is at rank 26 out of 100\n",
      "bestimmbar_A: correct target 'unbestimmbar_A' is at rank 93 out of 100\n",
      "bestimmt_A: correct target 'unbestimmt_A' is at rank 0 out of 100\n",
      "bestritten_A: correct target 'unbestritten_A' is at rank 0 out of 100\n",
      "beteiligt_A: correct target 'unbeteiligt_A' is at rank 0 out of 100\n",
      "betont_A: correct target 'unbetont_A' is at rank 5 out of 100\n",
      "beträchtlich_A: correct target 'unbeträchtlich_A' is at rank 6 out of 100\n",
      "bewacht_A: correct target 'unbewacht_A' is at rank 4 out of 100\n",
      "bewaffnet_A: correct target 'unbewaffnet_A' is at rank 3 out of 100\n",
      "bewältigt_A: correct target 'unbewältigt_A' is at rank 2 out of 100\n",
      "beweglich_A: correct target 'unbeweglich_A' is at rank 2 out of 100\n",
      "bewegt_A: correct target 'unbewegt_A' is at rank 3 out of 100\n",
      "bewohnbar_A: correct target 'unbewohnbar_A' is at rank 2 out of 100\n",
      "bewohnt_A: correct target 'unbewohnt_A' is at rank 2 out of 100\n",
      "bewußt_A: correct target 'unbewußt_A' is at rank 2 out of 100\n",
      "bezahlbar_A: correct target 'unbezahlbar_A' is at rank 10 out of 100\n",
      "bezahlt_A: correct target 'unbezahlt_A' is at rank 2 out of 100\n",
      "billig_A: correct target 'unbillig_A' is at rank 0 out of 100\n",
      "blutig_A: correct target 'unblutig_A' is at rank 4 out of 100\n",
      "botmäßig_A: correct target 'unbotmäßig_A' is at rank 12 out of 100\n",
      "brauchbar_A: correct target 'unbrauchbar_A' is at rank 3 out of 100\n",
      "bürokratisch_A: correct target 'unbürokratisch_A' is at rank 0 out of 100\n",
      "bußfertig_A: correct target 'unbußfertig_A' is at rank 4 out of 100\n",
      "christlich_A: correct target 'unchristlich_A' is at rank 53 out of 100\n",
      "dankbar_A: correct target 'undankbar_A' is at rank 0 out of 100\n",
      "datiert_A: correct target 'undatiert_A' is at rank 2 out of 100\n",
      "demokratisch_A: correct target 'undemokratisch_A' is at rank 9 out of 100\n",
      "denkbar_A: correct target 'undenkbar_A' is at rank 0 out of 100\n",
      "deutlich_A: correct target 'undeutlich_A' is at rank 0 out of 100\n",
      "dicht_A: correct target 'undicht_A' is at rank 0 out of 100\n",
      "differenziert_A: correct target 'undifferenziert_A' is at rank 0 out of 100\n",
      "diskutabel_A: correct target 'undiskutabel_A' is at rank 0 out of 100\n",
      "diszipliniert_A: correct target 'undiszipliniert_A' is at rank 2 out of 100\n",
      "duldsam_A: correct target 'unduldsam_A' is at rank 2 out of 100\n",
      "durchführbar_A: correct target 'undurchführbar_A' is at rank 23 out of 100\n",
      "durchlässig_A: correct target 'undurchlässig_A' is at rank 2 out of 100\n",
      "durchschaubar_A: correct target 'undurchschaubar_A' is at rank 3 out of 100\n",
      "durchsichtig_A: correct target 'undurchsichtig_A' is at rank 0 out of 100\n",
      "eben_A: correct target 'uneben_A' is at rank 2 out of 100\n",
      "edel_A: correct target 'unedel_A' is at rank 7 out of 100\n",
      "ehelich_A: correct target 'unehelich_A' is at rank 13 out of 100\n",
      "ehrenhaft_A: correct target 'unehrenhaft_A' is at rank 4 out of 100\n",
      "ehrlich_A: correct target 'unehrlich_A' is at rank 24 out of 100\n",
      "eigennützig_A: correct target 'uneigennützig_A' is at rank 7 out of 100\n",
      "eigentlich_A: correct target 'uneigentlich_A' is at rank 4 out of 100\n",
      "eingeschränkt_A: correct target 'uneingeschränkt_A' is at rank 15 out of 100\n",
      "eingeweiht_A: correct target 'uneingeweiht_A' is at rank 0 out of 100\n",
      "einheitlich_A: correct target 'uneinheitlich_A' is at rank 7 out of 100\n",
      "einig_A: correct target 'uneinig_A' is at rank 3 out of 100\n",
      "einlösbar_A: correct target 'uneinlösbar_A' is at rank 3 out of 100\n",
      "einsichtig_A: correct target 'uneinsichtig_A' is at rank 0 out of 100\n",
      "empfindlich_A: correct target 'unempfindlich_A' is at rank 2 out of 100\n",
      "endlich_A: correct target 'unendlich_A' is at rank 2 out of 100\n",
      "entbehrlich_A: correct target 'unentbehrlich_A' is at rank 0 out of 100\n",
      "entdeckt_A: correct target 'unentdeckt_A' is at rank 11 out of 100\n",
      "entgeltlich_A: correct target 'unentgeltlich_A' is at rank 2 out of 100\n",
      "entschieden_A: correct target 'unentschieden_A' is at rank 0 out of 100\n",
      "entschlossen_A: correct target 'unentschlossen_A' is at rank 0 out of 100\n",
      "entschuldbar_A: correct target 'unentschuldbar_A' is at rank 8 out of 100\n",
      "entschuldigt_A: correct target 'unentschuldigt_A' is at rank 2 out of 100\n",
      "entwirrbar_A: correct target 'unentwirrbar_A' is at rank 2 out of 100\n",
      "erforscht_A: correct target 'unerforscht_A' is at rank 2 out of 100\n",
      "erfreulich_A: correct target 'unerfreulich_A' is at rank 20 out of 100\n",
      "erfüllbar_A: correct target 'unerfüllbar_A' is at rank 2 out of 100\n",
      "erfüllt_A: correct target 'unerfüllt_A' is at rank 3 out of 100\n",
      "ergiebig_A: correct target 'unergiebig_A' is at rank 10 out of 100\n",
      "erheblich_A: correct target 'unerheblich_A' is at rank 5 out of 100\n",
      "erhört_A: correct target 'unerhört_A' is at rank 0 out of 100\n",
      "erkannt_A: correct target 'unerkannt_A' is at rank 0 out of 100\n",
      "erklärbar_A: correct target 'unerklärbar_A' is at rank 2 out of 100\n",
      "erklärlich_A: correct target 'unerklärlich_A' is at rank 0 out of 100\n",
      "erlaubt_A: correct target 'unerlaubt_A' is at rank 4 out of 100\n",
      "erledigt_A: correct target 'unerledigt_A' is at rank 7 out of 100\n",
      "ernst_A: correct target 'unernst_A' is at rank 27 out of 100\n",
      "erreichbar_A: correct target 'unerreichbar_A' is at rank 0 out of 100\n",
      "erreicht_A: correct target 'unerreicht_A' is at rank 0 out of 100\n",
      "erschlossen_A: correct target 'unerschlossen_A' is at rank 2 out of 100\n",
      "erschwinglich_A: correct target 'unerschwinglich_A' is at rank 5 out of 100\n",
      "ersetzbar_A: correct target 'unersetzbar_A' is at rank 5 out of 100\n",
      "ersprießlich_A: correct target 'unersprießlich_A' is at rank 0 out of 100\n",
      "erträglich_A: correct target 'unerträglich_A' is at rank 2 out of 100\n",
      "erwähnt_A: correct target 'unerwähnt_A' is at rank 0 out of 100\n",
      "erwartet_A: correct target 'unerwartet_A' is at rank 83 out of 100\n",
      "erwidert_A: correct target 'unerwidert_A' is at rank 0 out of 100\n",
      "erwünscht_A: correct target 'unerwünscht_A' is at rank 2 out of 100\n",
      "erzogen_A: correct target 'unerzogen_A' is at rank 29 out of 100\n",
      "fähig_A: correct target 'unfähig_A' is at rank 2 out of 100\n",
      "fair_A: correct target 'unfair_A' is at rank 2 out of 100\n",
      "faßbar_A: correct target 'unfaßbar_A' is at rank 0 out of 100\n",
      "faßlich_A: correct target 'unfaßlich_A' is at rank 72 out of 100\n",
      "fehlbar_A: correct target 'unfehlbar_A' is at rank 2 out of 100\n",
      "fein_A: correct target 'unfein_A' is at rank 0 out of 100\n",
      "fertig_A: correct target 'unfertig_A' is at rank 14 out of 100\n",
      "flott_A: correct target 'unflott_A' is at rank 0 out of 100\n",
      "folgsam_A: correct target 'unfolgsam_A' is at rank 0 out of 100\n",
      "förmlich_A: correct target 'unförmlich_A' is at rank 0 out of 100\n",
      "frankiert_A: correct target 'unfrankiert_A' is at rank 8 out of 100\n",
      "frei_A: correct target 'unfrei_A' is at rank 2 out of 100\n",
      "freiwillig_A: correct target 'unfreiwillig_A' is at rank 0 out of 100\n",
      "freundlich_A: correct target 'unfreundlich_A' is at rank 6 out of 100\n",
      "fromm_A: correct target 'unfromm_A' is at rank 20 out of 100\n",
      "fruchtbar_A: correct target 'unfruchtbar_A' is at rank 2 out of 100\n",
      "galant_A: correct target 'ungalant_A' is at rank 0 out of 100\n",
      "gastlich_A: correct target 'ungastlich_A' is at rank 45 out of 100\n",
      "geahndet_A: correct target 'ungeahndet_A' is at rank 14 out of 100\n",
      "geahnt_A: correct target 'ungeahnt_A' is at rank 2 out of 100\n",
      "gebändigt_A: correct target 'ungebändigt_A' is at rank 2 out of 100\n",
      "gebeten_A: correct target 'ungebeten_A' is at rank 0 out of 100\n",
      "gebeugt_A: correct target 'ungebeugt_A' is at rank 0 out of 100\n",
      "gebildet_A: correct target 'ungebildet_A' is at rank 2 out of 100\n",
      "geboren_A: correct target 'ungeboren_A' is at rank 0 out of 100\n",
      "gebräuchlich_A: correct target 'ungebräuchlich_A' is at rank 6 out of 100\n",
      "gebraucht_A: correct target 'ungebraucht_A' is at rank 3 out of 100\n",
      "gebremst_A: correct target 'ungebremst_A' is at rank 2 out of 100\n",
      "gebrochen_A: correct target 'ungebrochen_A' is at rank 0 out of 100\n",
      "gebührlich_A: correct target 'ungebührlich_A' is at rank 0 out of 100\n",
      "gebunden_A: correct target 'ungebunden_A' is at rank 2 out of 100\n",
      "gedeckt_A: correct target 'ungedeckt_A' is at rank 11 out of 100\n",
      "gedient_A: correct target 'ungedient_A' is at rank 4 out of 100\n",
      "gedruckt_A: correct target 'ungedruckt_A' is at rank 33 out of 100\n",
      "geduldig_A: correct target 'ungeduldig_A' is at rank 2 out of 100\n",
      "geeignet_A: correct target 'ungeeignet_A' is at rank 11 out of 100\n",
      "gefährdet_A: correct target 'ungefährdet_A' is at rank 0 out of 100\n",
      "gefährlich_A: correct target 'ungefährlich_A' is at rank 2 out of 100\n",
      "gefällig_A: correct target 'ungefällig_A' is at rank 20 out of 100\n",
      "gefragt_A: correct target 'ungefragt_A' is at rank 0 out of 100\n",
      "gehalten_A: correct target 'ungehalten_A' is at rank 0 out of 100\n",
      "geheizt_A: correct target 'ungeheizt_A' is at rank 2 out of 100\n",
      "gehemmt_A: correct target 'ungehemmt_A' is at rank 0 out of 100\n",
      "geheuer_A: correct target 'ungeheuer_A' is at rank 0 out of 100\n",
      "gehindert_A: correct target 'ungehindert_A' is at rank 68 out of 100\n",
      "gehobelt_A: correct target 'ungehobelt_A' is at rank 0 out of 100\n",
      "gehörig_A: correct target 'ungehörig_A' is at rank 0 out of 100\n",
      "gehorsam_A: correct target 'ungehorsam_A' is at rank 3 out of 100\n",
      "gehört_A: correct target 'ungehört_A' is at rank 0 out of 100\n",
      "geistig_A: correct target 'ungeistig_A' is at rank 87 out of 100\n",
      "gekämmt_A: correct target 'ungekämmt_A' is at rank 28 out of 100\n",
      "geklärt_A: correct target 'ungeklärt_A' is at rank 2 out of 100\n",
      "gekocht_A: correct target 'ungekocht_A' is at rank 2 out of 100\n",
      "gekündigt_A: correct target 'ungekündigt_A' is at rank 3 out of 100\n",
      "gekünstelt_A: correct target 'ungekünstelt_A' is at rank 10 out of 100\n",
      "gekürzt_A: correct target 'ungekürzt_A' is at rank 2 out of 100\n",
      "geladen_A: correct target 'ungeladen_A' is at rank 2 out of 100\n",
      "gelegen_A: correct target 'ungelegen_A' is at rank 0 out of 100\n",
      "gelenkig_A: correct target 'ungelenkig_A' is at rank 0 out of 100\n",
      "gelernt_A: correct target 'ungelernt_A' is at rank 22 out of 100\n",
      "geliebt_A: correct target 'ungeliebt_A' is at rank 0 out of 100\n",
      "gelöst_A: correct target 'ungelöst_A' is at rank 0 out of 100\n",
      "gemein_A: correct target 'ungemein_A' is at rank 0 out of 100\n",
      "gemischt_A: correct target 'ungemischt_A' is at rank 0 out of 100\n",
      "gemütlich_A: correct target 'ungemütlich_A' is at rank 53 out of 100\n",
      "genannt_A: correct target 'ungenannt_A' is at rank 0 out of 100\n",
      "genau_A: correct target 'ungenau_A' is at rank 16 out of 100\n",
      "genehmigt_A: correct target 'ungenehmigt_A' is at rank 5 out of 100\n",
      "geniert_A: correct target 'ungeniert_A' is at rank 0 out of 100\n",
      "genießbar_A: correct target 'ungenießbar_A' is at rank 2 out of 100\n",
      "genügend_A: correct target 'ungenügend_A' is at rank 32 out of 100\n",
      "genutzt_A: correct target 'ungenutzt_A' is at rank 0 out of 100\n",
      "geordnet_A: correct target 'ungeordnet_A' is at rank 2 out of 100\n",
      "gepflegt_A: correct target 'ungepflegt_A' is at rank 5 out of 100\n",
      "geprüft_A: correct target 'ungeprüft_A' is at rank 0 out of 100\n",
      "gerade_A: correct target 'ungerade_A' is at rank 2 out of 100\n",
      "gerecht_A: correct target 'ungerecht_A' is at rank 2 out of 100\n",
      "gerechtfertig_A: correct target 'ungerechtfertig_A' is at rank 0 out of 100\n",
      "gerechtfertigt_A: correct target 'ungerechtfertigt_A' is at rank 3 out of 100\n",
      "geregelt_A: correct target 'ungeregelt_A' is at rank 6 out of 100\n",
      "gereimt_A: correct target 'ungereimt_A' is at rank 21 out of 100\n",
      "gerührt_A: correct target 'ungerührt_A' is at rank 0 out of 100\n",
      "gerupft_A: correct target 'ungerupft_A' is at rank 0 out of 100\n",
      "gesagt_A: correct target 'ungesagt_A' is at rank 47 out of 100\n",
      "gesättigt_A: correct target 'ungesättigt_A' is at rank 2 out of 100\n",
      "gesäuert_A: correct target 'ungesäuert_A' is at rank 38 out of 100\n",
      "geschickt_A: correct target 'ungeschickt_A' is at rank 8 out of 100\n",
      "geschlagen_A: correct target 'ungeschlagen_A' is at rank 0 out of 100\n",
      "geschlechtlich_A: correct target 'ungeschlechtlich_A' is at rank 11 out of 100\n",
      "geschliffen_A: correct target 'ungeschliffen_A' is at rank 4 out of 100\n",
      "geschmälert_A: correct target 'ungeschmälert_A' is at rank 0 out of 100\n",
      "geschminkt_A: correct target 'ungeschminkt_A' is at rank 0 out of 100\n",
      "geschoren_A: correct target 'ungeschoren_A' is at rank 0 out of 100\n",
      "geschrieben_A: correct target 'ungeschrieben_A' is at rank 0 out of 100\n",
      "geschult_A: correct target 'ungeschult_A' is at rank 5 out of 100\n",
      "geschützt_A: correct target 'ungeschützt_A' is at rank 98 out of 100\n",
      "gesehen_A: correct target 'ungesehen_A' is at rank 0 out of 100\n",
      "gesellig_A: correct target 'ungesellig_A' is at rank 7 out of 100\n",
      "gesetzlich_A: correct target 'ungesetzlich_A' is at rank 0 out of 100\n",
      "gesichert_A: correct target 'ungesichert_A' is at rank 3 out of 100\n",
      "gestaltet_A: correct target 'ungestaltet_A' is at rank 0 out of 100\n",
      "gestempelt_A: correct target 'ungestempelt_A' is at rank 24 out of 100\n",
      "gestillt_A: correct target 'ungestillt_A' is at rank 0 out of 100\n",
      "gestört_A: correct target 'ungestört_A' is at rank 0 out of 100\n",
      "gestraft_A: correct target 'ungestraft_A' is at rank 0 out of 100\n",
      "gesund_A: correct target 'ungesund_A' is at rank 4 out of 100\n",
      "geteilt_A: correct target 'ungeteilt_A' is at rank 7 out of 100\n",
      "getreu_A: correct target 'ungetreu_A' is at rank 0 out of 100\n",
      "getrübt_A: correct target 'ungetrübt_A' is at rank 0 out of 100\n",
      "geübt_A: correct target 'ungeübt_A' is at rank 2 out of 100\n",
      "gewaschen_A: correct target 'ungewaschen_A' is at rank 22 out of 100\n",
      "gewiß_A: correct target 'ungewiß_A' is at rank 0 out of 100\n",
      "gewöhnlich_A: correct target 'ungewöhnlich_A' is at rank 0 out of 100\n",
      "gewohnt_A: correct target 'ungewohnt_A' is at rank 2 out of 100\n",
      "gewollt_A: correct target 'ungewollt_A' is at rank 2 out of 100\n",
      "gezählt_A: correct target 'ungezählt_A' is at rank 0 out of 100\n",
      "gezähmt_A: correct target 'ungezähmt_A' is at rank 2 out of 100\n",
      "gezogen_A: correct target 'ungezogen_A' is at rank 0 out of 100\n",
      "gezügelt_A: correct target 'ungezügelt_A' is at rank 8 out of 100\n",
      "gezwungen_A: correct target 'ungezwungen_A' is at rank 0 out of 100\n",
      "giftig_A: correct target 'ungiftig_A' is at rank 3 out of 100\n",
      "glaubhaft_A: correct target 'unglaubhaft_A' is at rank 3 out of 100\n",
      "gläubig_A: correct target 'ungläubig_A' is at rank 26 out of 100\n",
      "glaublich_A: correct target 'unglaublich_A' is at rank 0 out of 100\n",
      "glaubwürdig_A: correct target 'unglaubwürdig_A' is at rank 2 out of 100\n",
      "gleich_A: correct target 'ungleich_A' is at rank 0 out of 100\n",
      "gleichgewichtig_A: correct target 'ungleichgewichtig_A' is at rank 7 out of 100\n",
      "gleichmäßig_A: correct target 'ungleichmäßig_A' is at rank 2 out of 100\n",
      "gleichzeitig_A: correct target 'ungleichzeitig_A' is at rank 0 out of 100\n",
      "glückbringend_A: correct target 'unglückbringend_A' is at rank 0 out of 100\n",
      "glücklich_A: correct target 'unglücklich_A' is at rank 2 out of 100\n",
      "glückselig_A: correct target 'unglückselig_A' is at rank 0 out of 100\n",
      "gnädig_A: correct target 'ungnädig_A' is at rank 0 out of 100\n",
      "gültig_A: correct target 'ungültig_A' is at rank 3 out of 100\n",
      "günstig_A: correct target 'ungünstig_A' is at rank 6 out of 100\n",
      "gut_A: correct target 'ungut_A' is at rank 0 out of 100\n",
      "haltbar_A: correct target 'unhaltbar_A' is at rank 0 out of 100\n",
      "handlich_A: correct target 'unhandlich_A' is at rank 3 out of 100\n",
      "harmonisch_A: correct target 'unharmonisch_A' is at rank 6 out of 100\n",
      "heilbar_A: correct target 'unheilbar_A' is at rank 3 out of 100\n",
      "heilig_A: correct target 'unheilig_A' is at rank 0 out of 100\n",
      "heilsam_A: correct target 'unheilsam_A' is at rank 4 out of 100\n",
      "heimlich_A: correct target 'unheimlich_A' is at rank 0 out of 100\n",
      "historisch_A: correct target 'unhistorisch_A' is at rank 0 out of 100\n",
      "höflich_A: correct target 'unhöflich_A' is at rank 3 out of 100\n",
      "hörbar_A: correct target 'unhörbar_A' is at rank 2 out of 100\n",
      "hygienisch_A: correct target 'unhygienisch_A' is at rank 2 out of 100\n",
      "interessant_A: correct target 'uninteressant_A' is at rank 15 out of 100\n",
      "interessiert_A: correct target 'uninteressiert_A' is at rank 0 out of 100\n",
      "irdisch_A: correct target 'unirdisch_A' is at rank 0 out of 100\n",
      "kameradschaftlich_A: correct target 'unkameradschaftlich_A' is at rank 0 out of 100\n",
      "kenntlich_A: correct target 'unkenntlich_A' is at rank 3 out of 100\n",
      "keusch_A: correct target 'unkeusch_A' is at rank 3 out of 100\n",
      "kindlich_A: correct target 'unkindlich_A' is at rank 0 out of 100\n",
      "klar_A: correct target 'unklar_A' is at rank 0 out of 100\n",
      "klug_A: correct target 'unklug_A' is at rank 77 out of 100\n",
      "kollegial_A: correct target 'unkollegial_A' is at rank 0 out of 100\n",
      "kommentiert_A: correct target 'unkommentiert_A' is at rank 0 out of 100\n",
      "kompliziert_A: correct target 'unkompliziert_A' is at rank 0 out of 100\n",
      "kontrollierbar_A: correct target 'unkontrollierbar_A' is at rank 4 out of 100\n",
      "kontrolliert_A: correct target 'unkontrolliert_A' is at rank 4 out of 100\n",
      "konventionell_A: correct target 'unkonventionell_A' is at rank 0 out of 100\n",
      "konzentriert_A: correct target 'unkonzentriert_A' is at rank 0 out of 100\n",
      "körperlich_A: correct target 'unkörperlich_A' is at rank 0 out of 100\n",
      "korrekt_A: correct target 'unkorrekt_A' is at rank 9 out of 100\n",
      "kritisch_A: correct target 'unkritisch_A' is at rank 8 out of 100\n",
      "kultiviert_A: correct target 'unkultiviert_A' is at rank 3 out of 100\n",
      "kündbar_A: correct target 'unkündbar_A' is at rank 2 out of 100\n",
      "kundig_A: correct target 'unkundig_A' is at rank 2 out of 100\n",
      "leidlich_A: correct target 'unleidlich_A' is at rank 36 out of 100\n",
      "leserlich_A: correct target 'unleserlich_A' is at rank 2 out of 100\n",
      "lieb_A: correct target 'unlieb_A' is at rank 0 out of 100\n",
      "limitiert_A: correct target 'unlimitiert_A' is at rank 3 out of 100\n",
      "logisch_A: correct target 'unlogisch_A' is at rank 3 out of 100\n",
      "lösbar_A: correct target 'unlösbar_A' is at rank 2 out of 100\n",
      "löslich_A: correct target 'unlöslich_A' is at rank 6 out of 100\n",
      "lustbetont_A: correct target 'unlustbetont_A' is at rank 0 out of 100\n",
      "lustig_A: correct target 'unlustig_A' is at rank 19 out of 100\n",
      "manierlich_A: correct target 'unmanierlich_A' is at rank 0 out of 100\n",
      "männlich_A: correct target 'unmännlich_A' is at rank 23 out of 100\n",
      "maßgeblich_A: correct target 'unmaßgeblich_A' is at rank 0 out of 100\n",
      "mäßig_A: correct target 'unmäßig_A' is at rank 0 out of 100\n",
      "melodisch_A: correct target 'unmelodisch_A' is at rank 43 out of 100\n",
      "menschlich_A: correct target 'unmenschlich_A' is at rank 0 out of 100\n",
      "merklich_A: correct target 'unmerklich_A' is at rank 49 out of 100\n",
      "mißverständlich_A: correct target 'unmißverständlich_A' is at rank 79 out of 100\n",
      "mittelbar_A: correct target 'unmittelbar_A' is at rank 2 out of 100\n",
      "möbliert_A: correct target 'unmöbliert_A' is at rank 2 out of 100\n",
      "modern_A: correct target 'unmodern_A' is at rank 0 out of 100\n",
      "modisch_A: correct target 'unmodisch_A' is at rank 10 out of 100\n",
      "möglich_A: correct target 'unmöglich_A' is at rank 91 out of 100\n",
      "moralisch_A: correct target 'unmoralisch_A' is at rank 8 out of 100\n",
      "motiviert_A: correct target 'unmotiviert_A' is at rank 0 out of 100\n",
      "mündig_A: correct target 'unmündig_A' is at rank 7 out of 100\n",
      "musikalisch_A: correct target 'unmusikalisch_A' is at rank 0 out of 100\n",
      "mutig_A: correct target 'unmutig_A' is at rank 0 out of 100\n",
      "nachgiebig_A: correct target 'unnachgiebig_A' is at rank 2 out of 100\n",
      "nachsichtig_A: correct target 'unnachsichtig_A' is at rank 0 out of 100\n",
      "natürlich_A: correct target 'unnatürlich_A' is at rank 19 out of 100\n",
      "nennbar_A: correct target 'unnennbar_A' is at rank 0 out of 100\n",
      "normal_A: correct target 'unnormal_A' is at rank 4 out of 100\n",
      "nötig_A: correct target 'unnötig_A' is at rank 21 out of 100\n",
      "ordentlich_A: correct target 'unordentlich_A' is at rank 0 out of 100\n",
      "organisch_A: correct target 'unorganisch_A' is at rank 11 out of 100\n",
      "organisiert_A: correct target 'unorganisiert_A' is at rank 3 out of 100\n",
      "orthodox_A: correct target 'unorthodox_A' is at rank 0 out of 100\n",
      "pädagogisch_A: correct target 'unpädagogisch_A' is at rank 0 out of 100\n",
      "parteiisch_A: correct target 'unparteiisch_A' is at rank 5 out of 100\n",
      "parteilich_A: correct target 'unparteilich_A' is at rank 51 out of 100\n",
      "passend_A: correct target 'unpassend_A' is at rank 12 out of 100\n",
      "passierbar_A: correct target 'unpassierbar_A' is at rank 2 out of 100\n",
      "pathetisch_A: correct target 'unpathetisch_A' is at rank 13 out of 100\n",
      "persönlich_A: correct target 'unpersönlich_A' is at rank 47 out of 100\n",
      "pfändbar_A: correct target 'unpfändbar_A' is at rank 2 out of 100\n",
      "poetisch_A: correct target 'unpoetisch_A' is at rank 4 out of 100\n",
      "politisch_A: correct target 'unpolitisch_A' is at rank 0 out of 100\n",
      "populär_A: correct target 'unpopulär_A' is at rank 0 out of 100\n",
      "praktisch_A: correct target 'unpraktisch_A' is at rank 0 out of 100\n",
      "prätentiös_A: correct target 'unprätentiös_A' is at rank 43 out of 100\n",
      "problematisch_A: correct target 'unproblematisch_A' is at rank 2 out of 100\n",
      "produktiv_A: correct target 'unproduktiv_A' is at rank 2 out of 100\n",
      "proportioniert_A: correct target 'unproportioniert_A' is at rank 18 out of 100\n",
      "pünktlich_A: correct target 'unpünktlich_A' is at rank 3 out of 100\n",
      "qualifiziert_A: correct target 'unqualifiziert_A' is at rank 0 out of 100\n",
      "rasiert_A: correct target 'unrasiert_A' is at rank 5 out of 100\n",
      "rationell_A: correct target 'unrationell_A' is at rank 32 out of 100\n",
      "real_A: correct target 'unreal_A' is at rank 0 out of 100\n",
      "realistisch_A: correct target 'unrealistisch_A' is at rank 3 out of 100\n",
      "recht_A: correct target 'unrecht_A' is at rank 0 out of 100\n",
      "rechtmäßig_A: correct target 'unrechtmäßig_A' is at rank 2 out of 100\n",
      "rechtsmäßig_A: correct target 'unrechtsmäßig_A' is at rank 0 out of 100\n",
      "redigiert_A: correct target 'unredigiert_A' is at rank 31 out of 100\n",
      "redlich_A: correct target 'unredlich_A' is at rank 11 out of 100\n",
      "reflektiert_A: correct target 'unreflektiert_A' is at rank 0 out of 100\n",
      "regelmäßig_A: correct target 'unregelmäßig_A' is at rank 6 out of 100\n",
      "reif_A: correct target 'unreif_A' is at rank 2 out of 100\n",
      "rein_A: correct target 'unrein_A' is at rank 64 out of 100\n",
      "rentabel_A: correct target 'unrentabel_A' is at rank 2 out of 100\n",
      "restauriert_A: correct target 'unrestauriert_A' is at rank 0 out of 100\n",
      "richtig_A: correct target 'unrichtig_A' is at rank 0 out of 100\n",
      "ruhevoll_A: correct target 'unruhevoll_A' is at rank 0 out of 100\n",
      "ruhig_A: correct target 'unruhig_A' is at rank 4 out of 100\n",
      "rühmlich_A: correct target 'unrühmlich_A' is at rank 7 out of 100\n",
      "rund_A: correct target 'unrund_A' is at rank 0 out of 100\n",
      "sachgemäß_A: correct target 'unsachgemäß_A' is at rank 3 out of 100\n",
      "sachlich_A: correct target 'unsachlich_A' is at rank 3 out of 100\n",
      "sagbar_A: correct target 'unsagbar_A' is at rank 0 out of 100\n",
      "sanft_A: correct target 'unsanft_A' is at rank 0 out of 100\n",
      "sauber_A: correct target 'unsauber_A' is at rank 11 out of 100\n",
      "schädlich_A: correct target 'unschädlich_A' is at rank 21 out of 100\n",
      "scharf_A: correct target 'unscharf_A' is at rank 61 out of 100\n",
      "schätzbar_A: correct target 'unschätzbar_A' is at rank 0 out of 100\n",
      "scheinbar_A: correct target 'unscheinbar_A' is at rank 0 out of 100\n",
      "schicklich_A: correct target 'unschicklich_A' is at rank 3 out of 100\n",
      "schlagbar_A: correct target 'unschlagbar_A' is at rank 0 out of 100\n",
      "schlüssig_A: correct target 'unschlüssig_A' is at rank 0 out of 100\n",
      "schön_A: correct target 'unschön_A' is at rank 0 out of 100\n",
      "schuldig_A: correct target 'unschuldig_A' is at rank 2 out of 100\n",
      "selbständig_A: correct target 'unselbständig_A' is at rank 3 out of 100\n",
      "selig_A: correct target 'unselig_A' is at rank 0 out of 100\n",
      "seriös_A: correct target 'unseriös_A' is at rank 2 out of 100\n",
      "sicher_A: correct target 'unsicher_A' is at rank 28 out of 100\n",
      "sichtbar_A: correct target 'unsichtbar_A' is at rank 3 out of 100\n",
      "sinnig_A: correct target 'unsinnig_A' is at rank 0 out of 100\n",
      "sinnlich_A: correct target 'unsinnlich_A' is at rank 2 out of 100\n",
      "sittlich_A: correct target 'unsittlich_A' is at rank 0 out of 100\n",
      "solid_A: correct target 'unsolid_A' is at rank 0 out of 100\n",
      "sozial_A: correct target 'unsozial_A' is at rank 0 out of 100\n",
      "spektakulär_A: correct target 'unspektakulär_A' is at rank 13 out of 100\n",
      "spezifisch_A: correct target 'unspezifisch_A' is at rank 71 out of 100\n",
      "sportlich_A: correct target 'unsportlich_A' is at rank 39 out of 100\n",
      "stabil_A: correct target 'unstabil_A' is at rank 4 out of 100\n",
      "ständig_A: correct target 'unständig_A' is at rank 0 out of 100\n",
      "statthaft_A: correct target 'unstatthaft_A' is at rank 10 out of 100\n",
      "sterblich_A: correct target 'unsterblich_A' is at rank 2 out of 100\n",
      "stet_A: correct target 'unstet_A' is at rank 0 out of 100\n",
      "stetig_A: correct target 'unstetig_A' is at rank 0 out of 100\n",
      "stimmig_A: correct target 'unstimmig_A' is at rank 37 out of 100\n",
      "streitig_A: correct target 'unstreitig_A' is at rank 2 out of 100\n",
      "strittig_A: correct target 'unstrittig_A' is at rank 14 out of 100\n",
      "strukturiert_A: correct target 'unstrukturiert_A' is at rank 2 out of 100\n",
      "symmetrisch_A: correct target 'unsymmetrisch_A' is at rank 2 out of 100\n",
      "sympathisch_A: correct target 'unsympathisch_A' is at rank 3 out of 100\n",
      "systematisch_A: correct target 'unsystematisch_A' is at rank 55 out of 100\n",
      "talentiert_A: correct target 'untalentiert_A' is at rank 5 out of 100\n",
      "tätig_A: correct target 'untätig_A' is at rank 0 out of 100\n",
      "tauglich_A: correct target 'untauglich_A' is at rank 2 out of 100\n",
      "teilbar_A: correct target 'unteilbar_A' is at rank 6 out of 100\n",
      "terminiert_A: correct target 'unterminiert_A' is at rank 0 out of 100\n",
      "tief_A: correct target 'untief_A' is at rank 0 out of 100\n",
      "tragbar_A: correct target 'untragbar_A' is at rank 0 out of 100\n",
      "trainiert_A: correct target 'untrainiert_A' is at rank 2 out of 100\n",
      "trennbar_A: correct target 'untrennbar_A' is at rank 80 out of 100\n",
      "treu_A: correct target 'untreu_A' is at rank 6 out of 100\n",
      "tröstlich_A: correct target 'untröstlich_A' is at rank 0 out of 100\n",
      "typisch_A: correct target 'untypisch_A' is at rank 3 out of 100\n",
      "überbietbar_A: correct target 'unüberbietbar_A' is at rank 2 out of 100\n",
      "überhörbar_A: correct target 'unüberhörbar_A' is at rank 5 out of 100\n",
      "überlegt_A: correct target 'unüberlegt_A' is at rank 35 out of 100\n",
      "überschaubar_A: correct target 'unüberschaubar_A' is at rank 3 out of 100\n",
      "überschreitbar_A: correct target 'unüberschreitbar_A' is at rank 3 out of 100\n",
      "übersehbar_A: correct target 'unübersehbar_A' is at rank 2 out of 100\n",
      "übersichtlich_A: correct target 'unübersichtlich_A' is at rank 16 out of 100\n",
      "übertroffen_A: correct target 'unübertroffen_A' is at rank 0 out of 100\n",
      "überwindbar_A: correct target 'unüberwindbar_A' is at rank 2 out of 100\n",
      "üblich_A: correct target 'unüblich_A' is at rank 2 out of 100\n",
      "umgänglich_A: correct target 'unumgänglich_A' is at rank 0 out of 100\n",
      "umkehrbar_A: correct target 'unumkehrbar_A' is at rank 4 out of 100\n",
      "umstritten_A: correct target 'unumstritten_A' is at rank 3 out of 100\n",
      "umwunden_A: correct target 'unumwunden_A' is at rank 0 out of 100\n",
      "unterbrochen_A: correct target 'ununterbrochen_A' is at rank 10 out of 100\n",
      "veränderlich_A: correct target 'unveränderlich_A' is at rank 2 out of 100\n",
      "verändert_A: correct target 'unverändert_A' is at rank 70 out of 100\n",
      "verantwortlich_A: correct target 'unverantwortlich_A' is at rank 77 out of 100\n",
      "verbildet_A: correct target 'unverbildet_A' is at rank 58 out of 100\n",
      "verbindlich_A: correct target 'unverbindlich_A' is at rank 56 out of 100\n",
      "verblümt_A: correct target 'unverblümt_A' is at rank 0 out of 100\n",
      "verbraucht_A: correct target 'unverbraucht_A' is at rank 0 out of 100\n",
      "verdächtig_A: correct target 'unverdächtig_A' is at rank 3 out of 100\n",
      "verdaulich_A: correct target 'unverdaulich_A' is at rank 9 out of 100\n",
      "verdaut_A: correct target 'unverdaut_A' is at rank 2 out of 100\n",
      "verdient_A: correct target 'unverdient_A' is at rank 3 out of 100\n",
      "verdorben_A: correct target 'unverdorben_A' is at rank 12 out of 100\n",
      "verdrossen_A: correct target 'unverdrossen_A' is at rank 0 out of 100\n",
      "verdünnt_A: correct target 'unverdünnt_A' is at rank 2 out of 100\n",
      "verehelicht_A: correct target 'unverehelicht_A' is at rank 12 out of 100\n",
      "vereinbar_A: correct target 'unvereinbar_A' is at rank 2 out of 100\n",
      "verfälscht_A: correct target 'unverfälscht_A' is at rank 0 out of 100\n",
      "verfänglich_A: correct target 'unverfänglich_A' is at rank 0 out of 100\n",
      "verfolgt_A: correct target 'unverfolgt_A' is at rank 0 out of 100\n",
      "vergänglich_A: correct target 'unvergänglich_A' is at rank 2 out of 100\n",
      "vergeßlich_A: correct target 'unvergeßlich_A' is at rank 0 out of 100\n",
      "vergleichbar_A: correct target 'unvergleichbar_A' is at rank 0 out of 100\n",
      "verhältnismäßig_A: correct target 'unverhältnismäßig_A' is at rank 50 out of 100\n",
      "verheiratet_A: correct target 'unverheiratet_A' is at rank 2 out of 100\n",
      "verhohlen_A: correct target 'unverhohlen_A' is at rank 2 out of 100\n",
      "verhüllt_A: correct target 'unverhüllt_A' is at rank 2 out of 100\n",
      "verkäuflich_A: correct target 'unverkäuflich_A' is at rank 13 out of 100\n",
      "verkrampft_A: correct target 'unverkrampft_A' is at rank 0 out of 100\n",
      "verlangt_A: correct target 'unverlangt_A' is at rank 0 out of 100\n",
      "verletzbar_A: correct target 'unverletzbar_A' is at rank 90 out of 100\n",
      "verletzlich_A: correct target 'unverletzlich_A' is at rank 0 out of 100\n",
      "verletzt_A: correct target 'unverletzt_A' is at rank 8 out of 100\n",
      "vermeidbar_A: correct target 'unvermeidbar_A' is at rank 2 out of 100\n",
      "vermeidlich_A: correct target 'unvermeidlich_A' is at rank 0 out of 100\n",
      "vermindert_A: correct target 'unvermindert_A' is at rank 0 out of 100\n",
      "vermittelt_A: correct target 'unvermittelt_A' is at rank 0 out of 100\n",
      "vermögend_A: correct target 'unvermögend_A' is at rank 40 out of 100\n",
      "vermutet_A: correct target 'unvermutet_A' is at rank 0 out of 100\n",
      "vernünftig_A: correct target 'unvernünftig_A' is at rank 2 out of 100\n",
      "veröffentlicht_A: correct target 'unveröffentlicht_A' is at rank 4 out of 100\n",
      "verpackt_A: correct target 'unverpackt_A' is at rank 2 out of 100\n",
      "verputzt_A: correct target 'unverputzt_A' is at rank 2 out of 100\n",
      "verrichtet_A: correct target 'unverrichtet_A' is at rank 0 out of 100\n",
      "verschämt_A: correct target 'unverschämt_A' is at rank 0 out of 100\n",
      "verschlossen_A: correct target 'unverschlossen_A' is at rank 4 out of 100\n",
      "verschuldet_A: correct target 'unverschuldet_A' is at rank 17 out of 100\n",
      "versehrt_A: correct target 'unversehrt_A' is at rank 0 out of 100\n",
      "versichert_A: correct target 'unversichert_A' is at rank 15 out of 100\n",
      "versöhnlich_A: correct target 'unversöhnlich_A' is at rank 0 out of 100\n",
      "versorgt_A: correct target 'unversorgt_A' is at rank 0 out of 100\n",
      "versperrt_A: correct target 'unversperrt_A' is at rank 2 out of 100\n",
      "verstanden_A: correct target 'unverstanden_A' is at rank 0 out of 100\n",
      "verständlich_A: correct target 'unverständlich_A' is at rank 15 out of 100\n",
      "verstellt_A: correct target 'unverstellt_A' is at rank 11 out of 100\n",
      "versteuert_A: correct target 'unversteuert_A' is at rank 5 out of 100\n",
      "versucht_A: correct target 'unversucht_A' is at rank 0 out of 100\n",
      "verträglich_A: correct target 'unverträglich_A' is at rank 5 out of 100\n",
      "verwandt_A: correct target 'unverwandt_A' is at rank 0 out of 100\n",
      "verwundbar_A: correct target 'unverwundbar_A' is at rank 3 out of 100\n",
      "verzagt_A: correct target 'unverzagt_A' is at rank 5 out of 100\n",
      "verzeihlich_A: correct target 'unverzeihlich_A' is at rank 2 out of 100\n",
      "verzichtbar_A: correct target 'unverzichtbar_A' is at rank 9 out of 100\n",
      "verzinslich_A: correct target 'unverzinslich_A' is at rank 2 out of 100\n",
      "vollendet_A: correct target 'unvollendet_A' is at rank 5 out of 100\n",
      "vollkommen_A: correct target 'unvollkommen_A' is at rank 5 out of 100\n",
      "vollständig_A: correct target 'unvollständig_A' is at rank 2 out of 100\n",
      "vorbereitet_A: correct target 'unvorbereitet_A' is at rank 0 out of 100\n",
      "voreingenommen_A: correct target 'unvoreingenommen_A' is at rank 6 out of 100\n",
      "vorhergesehen_A: correct target 'unvorhergesehen_A' is at rank 2 out of 100\n",
      "vorhersehbar_A: correct target 'unvorhersehbar_A' is at rank 3 out of 100\n",
      "vorschriftsmäßig_A: correct target 'unvorschriftsmäßig_A' is at rank 4 out of 100\n",
      "vorsichtig_A: correct target 'unvorsichtig_A' is at rank 7 out of 100\n",
      "vorstellbar_A: correct target 'unvorstellbar_A' is at rank 5 out of 100\n",
      "vorteilhaft_A: correct target 'unvorteilhaft_A' is at rank 12 out of 100\n",
      "wahr_A: correct target 'unwahr_A' is at rank 0 out of 100\n",
      "wahrhaftig_A: correct target 'unwahrhaftig_A' is at rank 0 out of 100\n",
      "wahrscheinlich_A: correct target 'unwahrscheinlich_A' is at rank 3 out of 100\n",
      "wandelbar_A: correct target 'unwandelbar_A' is at rank 6 out of 100\n",
      "weiblich_A: correct target 'unweiblich_A' is at rank 14 out of 100\n",
      "weit_A: correct target 'unweit_A' is at rank 0 out of 100\n",
      "wert_A: correct target 'unwert_A' is at rank 0 out of 100\n",
      "wesentlich_A: correct target 'unwesentlich_A' is at rank 8 out of 100\n",
      "wichtig_A: correct target 'unwichtig_A' is at rank 0 out of 100\n",
      "widerlegbar_A: correct target 'unwiderlegbar_A' is at rank 5 out of 100\n",
      "widerruflich_A: correct target 'unwiderruflich_A' is at rank 53 out of 100\n",
      "willentlich_A: correct target 'unwillentlich_A' is at rank 2 out of 100\n",
      "willig_A: correct target 'unwillig_A' is at rank 12 out of 100\n",
      "willkommen_A: correct target 'unwillkommen_A' is at rank 47 out of 100\n",
      "willkürlich_A: correct target 'unwillkürlich_A' is at rank 0 out of 100\n",
      "wirklich_A: correct target 'unwirklich_A' is at rank 0 out of 100\n",
      "wirksam_A: correct target 'unwirksam_A' is at rank 6 out of 100\n",
      "wirsch_A: correct target 'unwirsch_A' is at rank 0 out of 100\n",
      "wirtlich_A: correct target 'unwirtlich_A' is at rank 61 out of 100\n",
      "wirtschaftlich_A: correct target 'unwirtschaftlich_A' is at rank 0 out of 100\n",
      "wissend_A: correct target 'unwissend_A' is at rank 11 out of 100\n",
      "wissenschaftlich_A: correct target 'unwissenschaftlich_A' is at rank 0 out of 100\n",
      "wissentlich_A: correct target 'unwissentlich_A' is at rank 4 out of 100\n",
      "wohnlich_A: correct target 'unwohnlich_A' is at rank 82 out of 100\n",
      "würdig_A: correct target 'unwürdig_A' is at rank 5 out of 100\n",
      "zeitgemäß_A: correct target 'unzeitgemäß_A' is at rank 93 out of 100\n",
      "zeitig_A: correct target 'unzeitig_A' is at rank 0 out of 100\n",
      "zensiert_A: correct target 'unzensiert_A' is at rank 2 out of 100\n",
      "zerbrechlich_A: correct target 'unzerbrechlich_A' is at rank 10 out of 100\n",
      "zerstörbar_A: correct target 'unzerstörbar_A' is at rank 2 out of 100\n",
      "ziemlich_A: correct target 'unziemlich_A' is at rank 0 out of 100\n",
      "zivilisiert_A: correct target 'unzivilisiert_A' is at rank 2 out of 100\n",
      "züchtig_A: correct target 'unzüchtig_A' is at rank 31 out of 100\n",
      "zufrieden_A: correct target 'unzufrieden_A' is at rank 2 out of 100\n",
      "zufriedenstellend_A: correct target 'unzufriedenstellend_A' is at rank 0 out of 100\n",
      "zugänglich_A: correct target 'unzugänglich_A' is at rank 45 out of 100\n",
      "zulässig_A: correct target 'unzulässig_A' is at rank 2 out of 100\n",
      "zumutbar_A: correct target 'unzumutbar_A' is at rank 2 out of 100\n",
      "zurechnungsfähig_A: correct target 'unzurechnungsfähig_A' is at rank 3 out of 100\n",
      "zureichend_A: correct target 'unzureichend_A' is at rank 0 out of 100\n",
      "zusammenhängend_A: correct target 'unzusammenhängend_A' is at rank 0 out of 100\n",
      "zuständig_A: correct target 'unzuständig_A' is at rank 39 out of 100\n",
      "zuträglich_A: correct target 'unzuträglich_A' is at rank 11 out of 100\n",
      "zutreffend_A: correct target 'unzutreffend_A' is at rank 2 out of 100\n",
      "zuverlässig_A: correct target 'unzuverlässig_A' is at rank 20 out of 100\n",
      "zweckmäßig_A: correct target 'unzweckmäßig_A' is at rank 5 out of 100\n",
      "zweideutig_A: correct target 'unzweideutig_A' is at rank 33 out of 100\n",
      "zweifelhaft_A: correct target 'unzweifelhaft_A' is at rank 13 out of 100\n"
     ]
    },
    {
     "data": {
      "text/plain": [
       "0.16140655961221811"
      ]
     },
     "execution_count": 160,
     "metadata": {},
     "output_type": "execute_result"
    }
   ],
   "source": [
    "mrr_score(m, pairs, verbose=True, pos='A', max_neighbors=100)"
   ]
  },
  {
   "cell_type": "code",
   "execution_count": 228,
   "metadata": {
    "collapsed": false
   },
   "outputs": [
    {
     "name": "stdout",
     "output_type": "stream",
     "text": [
      "Training lexical function...dummy with 400 samples\n"
     ]
    }
   ],
   "source": [
    "m = LexfunModel(space['cbow-w5'])\n",
    "pairs = get_train_pairs(pairs_df, 'dAA02')\n",
    "m.fit(pairs[:400])"
   ]
  },
  {
   "cell_type": "code",
   "execution_count": 229,
   "metadata": {
    "collapsed": false
   },
   "outputs": [
    {
     "name": "stdout",
     "output_type": "stream",
     "text": [
      "Computing MRR score on 235 pairs\n",
      "natürlich_A: correct target 'unnatürlich_A' is at rank 0 out of 100\n",
      "nennbar_A: correct target 'unnennbar_A' is at rank 0 out of 100\n",
      "normal_A: correct target 'unnormal_A' is at rank 45 out of 100\n",
      "nötig_A: correct target 'unnötig_A' is at rank 51 out of 100\n",
      "ordentlich_A: correct target 'unordentlich_A' is at rank 31 out of 100\n",
      "organisch_A: correct target 'unorganisch_A' is at rank 0 out of 100\n",
      "organisiert_A: correct target 'unorganisiert_A' is at rank 0 out of 100\n",
      "orthodox_A: correct target 'unorthodox_A' is at rank 0 out of 100\n",
      "pädagogisch_A: correct target 'unpädagogisch_A' is at rank 0 out of 100\n",
      "parteiisch_A: correct target 'unparteiisch_A' is at rank 0 out of 100\n",
      "parteilich_A: correct target 'unparteilich_A' is at rank 0 out of 100\n",
      "passend_A: correct target 'unpassend_A' is at rank 17 out of 100\n",
      "passierbar_A: correct target 'unpassierbar_A' is at rank 3 out of 100\n",
      "pathetisch_A: correct target 'unpathetisch_A' is at rank 76 out of 100\n",
      "persönlich_A: correct target 'unpersönlich_A' is at rank 0 out of 100\n",
      "pfändbar_A: correct target 'unpfändbar_A' is at rank 0 out of 100\n",
      "poetisch_A: correct target 'unpoetisch_A' is at rank 56 out of 100\n",
      "politisch_A: correct target 'unpolitisch_A' is at rank 26 out of 100\n",
      "populär_A: correct target 'unpopulär_A' is at rank 0 out of 100\n",
      "praktisch_A: correct target 'unpraktisch_A' is at rank 0 out of 100\n",
      "prätentiös_A: correct target 'unprätentiös_A' is at rank 6 out of 100\n",
      "problematisch_A: correct target 'unproblematisch_A' is at rank 63 out of 100\n",
      "produktiv_A: correct target 'unproduktiv_A' is at rank 0 out of 100\n",
      "proportioniert_A: correct target 'unproportioniert_A' is at rank 71 out of 100\n",
      "pünktlich_A: correct target 'unpünktlich_A' is at rank 0 out of 100\n",
      "qualifiziert_A: correct target 'unqualifiziert_A' is at rank 1 out of 100\n",
      "rasiert_A: correct target 'unrasiert_A' is at rank 2 out of 100\n",
      "rationell_A: correct target 'unrationell_A' is at rank 0 out of 100\n",
      "real_A: correct target 'unreal_A' is at rank 0 out of 100\n",
      "realistisch_A: correct target 'unrealistisch_A' is at rank 2 out of 100\n",
      "recht_A: correct target 'unrecht_A' is at rank 0 out of 100\n",
      "rechtmäßig_A: correct target 'unrechtmäßig_A' is at rank 13 out of 100\n",
      "rechtsmäßig_A: correct target 'unrechtsmäßig_A' is at rank 0 out of 100\n",
      "redigiert_A: correct target 'unredigiert_A' is at rank 0 out of 100\n",
      "redlich_A: correct target 'unredlich_A' is at rank 0 out of 100\n",
      "reflektiert_A: correct target 'unreflektiert_A' is at rank 0 out of 100\n",
      "regelmäßig_A: correct target 'unregelmäßig_A' is at rank 0 out of 100\n",
      "reif_A: correct target 'unreif_A' is at rank 15 out of 100\n",
      "rein_A: correct target 'unrein_A' is at rank 0 out of 100\n",
      "rentabel_A: correct target 'unrentabel_A' is at rank 3 out of 100\n",
      "restauriert_A: correct target 'unrestauriert_A' is at rank 0 out of 100\n",
      "richtig_A: correct target 'unrichtig_A' is at rank 0 out of 100\n",
      "ruhevoll_A: correct target 'unruhevoll_A' is at rank 0 out of 100\n",
      "ruhig_A: correct target 'unruhig_A' is at rank 2 out of 100\n",
      "rühmlich_A: correct target 'unrühmlich_A' is at rank 33 out of 100\n",
      "rund_A: correct target 'unrund_A' is at rank 0 out of 100\n",
      "sachgemäß_A: correct target 'unsachgemäß_A' is at rank 1 out of 100\n",
      "sachlich_A: correct target 'unsachlich_A' is at rank 0 out of 100\n",
      "sagbar_A: correct target 'unsagbar_A' is at rank 0 out of 100\n",
      "sanft_A: correct target 'unsanft_A' is at rank 0 out of 100\n",
      "sauber_A: correct target 'unsauber_A' is at rank 7 out of 100\n",
      "schädlich_A: correct target 'unschädlich_A' is at rank 0 out of 100\n",
      "scharf_A: correct target 'unscharf_A' is at rank 0 out of 100\n",
      "schätzbar_A: correct target 'unschätzbar_A' is at rank 0 out of 100\n",
      "scheinbar_A: correct target 'unscheinbar_A' is at rank 0 out of 100\n",
      "schicklich_A: correct target 'unschicklich_A' is at rank 0 out of 100\n",
      "schlagbar_A: correct target 'unschlagbar_A' is at rank 0 out of 100\n",
      "schlüssig_A: correct target 'unschlüssig_A' is at rank 0 out of 100\n",
      "schön_A: correct target 'unschön_A' is at rank 0 out of 100\n",
      "schuldig_A: correct target 'unschuldig_A' is at rank 0 out of 100\n",
      "selbständig_A: correct target 'unselbständig_A' is at rank 0 out of 100\n",
      "selig_A: correct target 'unselig_A' is at rank 0 out of 100\n",
      "seriös_A: correct target 'unseriös_A' is at rank 32 out of 100\n",
      "sicher_A: correct target 'unsicher_A' is at rank 34 out of 100\n",
      "sichtbar_A: correct target 'unsichtbar_A' is at rank 1 out of 100\n",
      "sinnig_A: correct target 'unsinnig_A' is at rank 0 out of 100\n",
      "sinnlich_A: correct target 'unsinnlich_A' is at rank 96 out of 100\n",
      "sittlich_A: correct target 'unsittlich_A' is at rank 0 out of 100\n",
      "solid_A: correct target 'unsolid_A' is at rank 0 out of 100\n",
      "sozial_A: correct target 'unsozial_A' is at rank 0 out of 100\n",
      "spektakulär_A: correct target 'unspektakulär_A' is at rank 0 out of 100\n",
      "spezifisch_A: correct target 'unspezifisch_A' is at rank 0 out of 100\n",
      "sportlich_A: correct target 'unsportlich_A' is at rank 0 out of 100\n",
      "stabil_A: correct target 'unstabil_A' is at rank 18 out of 100\n",
      "ständig_A: correct target 'unständig_A' is at rank 0 out of 100\n",
      "statthaft_A: correct target 'unstatthaft_A' is at rank 0 out of 100\n",
      "sterblich_A: correct target 'unsterblich_A' is at rank 0 out of 100\n",
      "stet_A: correct target 'unstet_A' is at rank 0 out of 100\n",
      "stetig_A: correct target 'unstetig_A' is at rank 0 out of 100\n",
      "stimmig_A: correct target 'unstimmig_A' is at rank 0 out of 100\n",
      "streitig_A: correct target 'unstreitig_A' is at rank 0 out of 100\n",
      "strittig_A: correct target 'unstrittig_A' is at rank 95 out of 100\n",
      "strukturiert_A: correct target 'unstrukturiert_A' is at rank 0 out of 100\n",
      "symmetrisch_A: correct target 'unsymmetrisch_A' is at rank 0 out of 100\n",
      "sympathisch_A: correct target 'unsympathisch_A' is at rank 20 out of 100\n",
      "systematisch_A: correct target 'unsystematisch_A' is at rank 16 out of 100\n",
      "talentiert_A: correct target 'untalentiert_A' is at rank 2 out of 100\n",
      "tätig_A: correct target 'untätig_A' is at rank 0 out of 100\n",
      "tauglich_A: correct target 'untauglich_A' is at rank 6 out of 100\n",
      "teilbar_A: correct target 'unteilbar_A' is at rank 0 out of 100\n",
      "terminiert_A: correct target 'unterminiert_A' is at rank 0 out of 100\n",
      "tief_A: correct target 'untief_A' is at rank 0 out of 100\n",
      "tragbar_A: correct target 'untragbar_A' is at rank 0 out of 100\n",
      "trainiert_A: correct target 'untrainiert_A' is at rank 54 out of 100\n",
      "trennbar_A: correct target 'untrennbar_A' is at rank 0 out of 100\n",
      "treu_A: correct target 'untreu_A' is at rank 0 out of 100\n",
      "tröstlich_A: correct target 'untröstlich_A' is at rank 0 out of 100\n",
      "typisch_A: correct target 'untypisch_A' is at rank 0 out of 100\n",
      "überbietbar_A: correct target 'unüberbietbar_A' is at rank 0 out of 100\n",
      "überhörbar_A: correct target 'unüberhörbar_A' is at rank 0 out of 100\n",
      "überlegt_A: correct target 'unüberlegt_A' is at rank 0 out of 100\n",
      "überschaubar_A: correct target 'unüberschaubar_A' is at rank 11 out of 100\n",
      "überschreitbar_A: correct target 'unüberschreitbar_A' is at rank 0 out of 100\n",
      "übersehbar_A: correct target 'unübersehbar_A' is at rank 0 out of 100\n",
      "übersichtlich_A: correct target 'unübersichtlich_A' is at rank 0 out of 100\n",
      "übertroffen_A: correct target 'unübertroffen_A' is at rank 0 out of 100\n",
      "überwindbar_A: correct target 'unüberwindbar_A' is at rank 0 out of 100\n",
      "üblich_A: correct target 'unüblich_A' is at rank 3 out of 100\n",
      "umgänglich_A: correct target 'unumgänglich_A' is at rank 0 out of 100\n",
      "umkehrbar_A: correct target 'unumkehrbar_A' is at rank 0 out of 100\n",
      "umstritten_A: correct target 'unumstritten_A' is at rank 0 out of 100\n",
      "umwunden_A: correct target 'unumwunden_A' is at rank 0 out of 100\n",
      "unterbrochen_A: correct target 'ununterbrochen_A' is at rank 0 out of 100\n",
      "veränderlich_A: correct target 'unveränderlich_A' is at rank 0 out of 100\n",
      "verändert_A: correct target 'unverändert_A' is at rank 0 out of 100\n",
      "verantwortlich_A: correct target 'unverantwortlich_A' is at rank 0 out of 100\n",
      "verbildet_A: correct target 'unverbildet_A' is at rank 52 out of 100\n",
      "verbindlich_A: correct target 'unverbindlich_A' is at rank 0 out of 100\n",
      "verblümt_A: correct target 'unverblümt_A' is at rank 0 out of 100\n",
      "verbraucht_A: correct target 'unverbraucht_A' is at rank 0 out of 100\n",
      "verdächtig_A: correct target 'unverdächtig_A' is at rank 0 out of 100\n",
      "verdaulich_A: correct target 'unverdaulich_A' is at rank 2 out of 100\n",
      "verdaut_A: correct target 'unverdaut_A' is at rank 36 out of 100\n",
      "verdient_A: correct target 'unverdient_A' is at rank 63 out of 100\n",
      "verdorben_A: correct target 'unverdorben_A' is at rank 88 out of 100\n",
      "verdrossen_A: correct target 'unverdrossen_A' is at rank 0 out of 100\n",
      "verdünnt_A: correct target 'unverdünnt_A' is at rank 78 out of 100\n",
      "verehelicht_A: correct target 'unverehelicht_A' is at rank 0 out of 100\n",
      "vereinbar_A: correct target 'unvereinbar_A' is at rank 0 out of 100\n",
      "verfälscht_A: correct target 'unverfälscht_A' is at rank 0 out of 100\n",
      "verfänglich_A: correct target 'unverfänglich_A' is at rank 0 out of 100\n",
      "verfolgt_A: correct target 'unverfolgt_A' is at rank 0 out of 100\n",
      "vergänglich_A: correct target 'unvergänglich_A' is at rank 0 out of 100\n",
      "vergeßlich_A: correct target 'unvergeßlich_A' is at rank 0 out of 100\n",
      "vergleichbar_A: correct target 'unvergleichbar_A' is at rank 0 out of 100\n",
      "verhältnismäßig_A: correct target 'unverhältnismäßig_A' is at rank 0 out of 100\n",
      "verheiratet_A: correct target 'unverheiratet_A' is at rank 2 out of 100\n",
      "verhohlen_A: correct target 'unverhohlen_A' is at rank 0 out of 100\n",
      "verhüllt_A: correct target 'unverhüllt_A' is at rank 58 out of 100\n",
      "verkäuflich_A: correct target 'unverkäuflich_A' is at rank 43 out of 100\n",
      "verkrampft_A: correct target 'unverkrampft_A' is at rank 0 out of 100\n",
      "verlangt_A: correct target 'unverlangt_A' is at rank 0 out of 100\n",
      "verletzbar_A: correct target 'unverletzbar_A' is at rank 0 out of 100\n",
      "verletzlich_A: correct target 'unverletzlich_A' is at rank 0 out of 100\n",
      "verletzt_A: correct target 'unverletzt_A' is at rank 0 out of 100\n",
      "vermeidbar_A: correct target 'unvermeidbar_A' is at rank 0 out of 100\n",
      "vermeidlich_A: correct target 'unvermeidlich_A' is at rank 0 out of 100\n",
      "vermindert_A: correct target 'unvermindert_A' is at rank 0 out of 100\n",
      "vermittelt_A: correct target 'unvermittelt_A' is at rank 0 out of 100\n",
      "vermögend_A: correct target 'unvermögend_A' is at rank 15 out of 100\n",
      "vermutet_A: correct target 'unvermutet_A' is at rank 0 out of 100\n",
      "vernünftig_A: correct target 'unvernünftig_A' is at rank 6 out of 100\n",
      "veröffentlicht_A: correct target 'unveröffentlicht_A' is at rank 2 out of 100\n",
      "verpackt_A: correct target 'unverpackt_A' is at rank 0 out of 100\n",
      "verputzt_A: correct target 'unverputzt_A' is at rank 4 out of 100\n",
      "verrichtet_A: correct target 'unverrichtet_A' is at rank 0 out of 100\n",
      "verschämt_A: correct target 'unverschämt_A' is at rank 0 out of 100\n",
      "verschlossen_A: correct target 'unverschlossen_A' is at rank 0 out of 100\n",
      "verschuldet_A: correct target 'unverschuldet_A' is at rank 0 out of 100\n",
      "versehrt_A: correct target 'unversehrt_A' is at rank 0 out of 100\n",
      "versichert_A: correct target 'unversichert_A' is at rank 0 out of 100\n",
      "versöhnlich_A: correct target 'unversöhnlich_A' is at rank 0 out of 100\n",
      "versorgt_A: correct target 'unversorgt_A' is at rank 0 out of 100\n",
      "versperrt_A: correct target 'unversperrt_A' is at rank 69 out of 100\n",
      "verstanden_A: correct target 'unverstanden_A' is at rank 0 out of 100\n",
      "verständlich_A: correct target 'unverständlich_A' is at rank 1 out of 100\n",
      "verstellt_A: correct target 'unverstellt_A' is at rank 0 out of 100\n",
      "versteuert_A: correct target 'unversteuert_A' is at rank 0 out of 100\n",
      "versucht_A: correct target 'unversucht_A' is at rank 0 out of 100\n",
      "verträglich_A: correct target 'unverträglich_A' is at rank 59 out of 100\n",
      "verwandt_A: correct target 'unverwandt_A' is at rank 0 out of 100\n",
      "verwundbar_A: correct target 'unverwundbar_A' is at rank 2 out of 100\n",
      "verzagt_A: correct target 'unverzagt_A' is at rank 0 out of 100\n",
      "verzeihlich_A: correct target 'unverzeihlich_A' is at rank 37 out of 100\n",
      "verzichtbar_A: correct target 'unverzichtbar_A' is at rank 16 out of 100\n",
      "verzinslich_A: correct target 'unverzinslich_A' is at rank 0 out of 100\n",
      "vollendet_A: correct target 'unvollendet_A' is at rank 0 out of 100\n",
      "vollkommen_A: correct target 'unvollkommen_A' is at rank 0 out of 100\n",
      "vollständig_A: correct target 'unvollständig_A' is at rank 0 out of 100\n",
      "vorbereitet_A: correct target 'unvorbereitet_A' is at rank 0 out of 100\n",
      "voreingenommen_A: correct target 'unvoreingenommen_A' is at rank 56 out of 100\n",
      "vorhergesehen_A: correct target 'unvorhergesehen_A' is at rank 0 out of 100\n",
      "vorhersehbar_A: correct target 'unvorhersehbar_A' is at rank 3 out of 100\n",
      "vorschriftsmäßig_A: correct target 'unvorschriftsmäßig_A' is at rank 0 out of 100\n",
      "vorsichtig_A: correct target 'unvorsichtig_A' is at rank 0 out of 100\n",
      "vorstellbar_A: correct target 'unvorstellbar_A' is at rank 3 out of 100\n",
      "vorteilhaft_A: correct target 'unvorteilhaft_A' is at rank 0 out of 100\n",
      "wahr_A: correct target 'unwahr_A' is at rank 0 out of 100\n",
      "wahrhaftig_A: correct target 'unwahrhaftig_A' is at rank 0 out of 100\n",
      "wahrscheinlich_A: correct target 'unwahrscheinlich_A' is at rank 39 out of 100\n",
      "wandelbar_A: correct target 'unwandelbar_A' is at rank 0 out of 100\n",
      "weiblich_A: correct target 'unweiblich_A' is at rank 13 out of 100\n",
      "weit_A: correct target 'unweit_A' is at rank 0 out of 100\n",
      "wert_A: correct target 'unwert_A' is at rank 0 out of 100\n",
      "wesentlich_A: correct target 'unwesentlich_A' is at rank 0 out of 100\n",
      "wichtig_A: correct target 'unwichtig_A' is at rank 1 out of 100\n",
      "widerlegbar_A: correct target 'unwiderlegbar_A' is at rank 0 out of 100\n",
      "widerruflich_A: correct target 'unwiderruflich_A' is at rank 0 out of 100\n",
      "willentlich_A: correct target 'unwillentlich_A' is at rank 0 out of 100\n",
      "willig_A: correct target 'unwillig_A' is at rank 0 out of 100\n",
      "willkommen_A: correct target 'unwillkommen_A' is at rank 0 out of 100\n",
      "willkürlich_A: correct target 'unwillkürlich_A' is at rank 0 out of 100\n",
      "wirklich_A: correct target 'unwirklich_A' is at rank 0 out of 100\n",
      "wirksam_A: correct target 'unwirksam_A' is at rank 0 out of 100\n",
      "wirsch_A: correct target 'unwirsch_A' is at rank 0 out of 100\n",
      "wirtlich_A: correct target 'unwirtlich_A' is at rank 0 out of 100\n",
      "wirtschaftlich_A: correct target 'unwirtschaftlich_A' is at rank 0 out of 100\n",
      "wissend_A: correct target 'unwissend_A' is at rank 58 out of 100\n",
      "wissenschaftlich_A: correct target 'unwissenschaftlich_A' is at rank 6 out of 100\n",
      "wissentlich_A: correct target 'unwissentlich_A' is at rank 8 out of 100\n",
      "wohnlich_A: correct target 'unwohnlich_A' is at rank 0 out of 100\n",
      "würdig_A: correct target 'unwürdig_A' is at rank 1 out of 100\n",
      "zeitgemäß_A: correct target 'unzeitgemäß_A' is at rank 10 out of 100\n",
      "zeitig_A: correct target 'unzeitig_A' is at rank 0 out of 100\n",
      "zensiert_A: correct target 'unzensiert_A' is at rank 3 out of 100\n",
      "zerbrechlich_A: correct target 'unzerbrechlich_A' is at rank 0 out of 100\n",
      "zerstörbar_A: correct target 'unzerstörbar_A' is at rank 21 out of 100\n",
      "ziemlich_A: correct target 'unziemlich_A' is at rank 0 out of 100\n",
      "zivilisiert_A: correct target 'unzivilisiert_A' is at rank 0 out of 100\n",
      "züchtig_A: correct target 'unzüchtig_A' is at rank 5 out of 100\n",
      "zufrieden_A: correct target 'unzufrieden_A' is at rank 52 out of 100\n",
      "zufriedenstellend_A: correct target 'unzufriedenstellend_A' is at rank 0 out of 100\n",
      "zugänglich_A: correct target 'unzugänglich_A' is at rank 2 out of 100\n",
      "zulässig_A: correct target 'unzulässig_A' is at rank 1 out of 100\n",
      "zumutbar_A: correct target 'unzumutbar_A' is at rank 3 out of 100\n",
      "zurechnungsfähig_A: correct target 'unzurechnungsfähig_A' is at rank 0 out of 100\n",
      "zureichend_A: correct target 'unzureichend_A' is at rank 0 out of 100\n",
      "zusammenhängend_A: correct target 'unzusammenhängend_A' is at rank 0 out of 100\n",
      "zuständig_A: correct target 'unzuständig_A' is at rank 0 out of 100\n",
      "zuträglich_A: correct target 'unzuträglich_A' is at rank 0 out of 100\n",
      "zutreffend_A: correct target 'unzutreffend_A' is at rank 4 out of 100\n",
      "zuverlässig_A: correct target 'unzuverlässig_A' is at rank 7 out of 100\n",
      "zweckmäßig_A: correct target 'unzweckmäßig_A' is at rank 0 out of 100\n",
      "zweideutig_A: correct target 'unzweideutig_A' is at rank 0 out of 100\n",
      "zweifelhaft_A: correct target 'unzweifelhaft_A' is at rank 61 out of 100\n"
     ]
    },
    {
     "data": {
      "text/plain": [
       "0.072392106891079"
      ]
     },
     "execution_count": 229,
     "metadata": {},
     "output_type": "execute_result"
    }
   ],
   "source": [
    "mrr_score(m, pairs[400:], verbose=True, pos='A', max_neighbors=100)"
   ]
  },
  {
   "cell_type": "code",
   "execution_count": 236,
   "metadata": {
    "collapsed": false
   },
   "outputs": [
    {
     "name": "stdout",
     "output_type": "stream",
     "text": [
      "Training lexical function...dummy with 400 samples\n"
     ]
    }
   ],
   "source": [
    "m = LexfunModel(space['cbow-w5'])\n",
    "pairs = get_train_pairs(pairs_df, 'dAA02')\n",
    "m.fit(pairs[:400])"
   ]
  },
  {
   "cell_type": "code",
   "execution_count": 238,
   "metadata": {
    "collapsed": false
   },
   "outputs": [
    {
     "data": {
      "text/plain": [
       "0.072392106891079"
      ]
     },
     "execution_count": 238,
     "metadata": {},
     "output_type": "execute_result"
    }
   ],
   "source": [
    "mrr_score(m, pairs[400:], pos='A', max_neighbors=100)"
   ]
  },
  {
   "cell_type": "code",
   "execution_count": 239,
   "metadata": {
    "collapsed": false
   },
   "outputs": [
    {
     "name": "stdout",
     "output_type": "stream",
     "text": [
      "Training lexical function...dummy with 400 samples\n"
     ]
    }
   ],
   "source": [
    "m = LexfunModel(space['cbow-w5'], learner='Ridge')\n",
    "pairs = get_train_pairs(pairs_df, 'dAA02')\n",
    "m.fit(pairs[:400])"
   ]
  },
  {
   "cell_type": "code",
   "execution_count": 240,
   "metadata": {
    "collapsed": false
   },
   "outputs": [
    {
     "data": {
      "text/plain": [
       "0.1942375195547534"
      ]
     },
     "execution_count": 240,
     "metadata": {},
     "output_type": "execute_result"
    }
   ],
   "source": [
    "mrr_score(m, pairs[400:], pos='A', max_neighbors=100)"
   ]
  },
  {
   "cell_type": "markdown",
   "metadata": {},
   "source": [
    "# 3 Model and evaluation"
   ]
  },
  {
   "cell_type": "code",
   "execution_count": null,
   "metadata": {
    "collapsed": false
   },
   "outputs": [],
   "source": [
    "vector_kaufen = space_cbow.get_row('kaufen_V')\n",
    "get_neighbors(vector_kaufen, space_cbow, n_neighbors=5)"
   ]
  },
  {
   "cell_type": "code",
   "execution_count": null,
   "metadata": {
    "collapsed": false
   },
   "outputs": [],
   "source": [
    "get_neighbors(vector_kaufen, space_cbow, n_neighbors=5, pos='A')"
   ]
  },
  {
   "cell_type": "markdown",
   "metadata": {},
   "source": [
    "Sanity check: comparison with Composes implementation..."
   ]
  },
  {
   "cell_type": "code",
   "execution_count": null,
   "metadata": {
    "collapsed": false
   },
   "outputs": [],
   "source": [
    "space_cbow.get_neighbours('kaufen_V', 5, CosSimilarity())"
   ]
  },
  {
   "cell_type": "markdown",
   "metadata": {},
   "source": [
    "# 4 Baseline model"
   ]
  },
  {
   "cell_type": "code",
   "execution_count": null,
   "metadata": {
    "collapsed": false
   },
   "outputs": [],
   "source": [
    "baseline_cbow = BaselineModel(space_cbow)"
   ]
  },
  {
   "cell_type": "code",
   "execution_count": null,
   "metadata": {
    "collapsed": false
   },
   "outputs": [],
   "source": [
    "score(baseline_cbow, pairs)"
   ]
  },
  {
   "cell_type": "code",
   "execution_count": null,
   "metadata": {
    "collapsed": false
   },
   "outputs": [],
   "source": [
    "# With POS restriction\n",
    "score(baseline_cbow, pairs, pos='A')"
   ]
  },
  {
   "cell_type": "markdown",
   "metadata": {},
   "source": [
    "# 5 Additive model (prototype-based)"
   ]
  },
  {
   "cell_type": "code",
   "execution_count": null,
   "metadata": {
    "collapsed": false
   },
   "outputs": [],
   "source": [
    "additive_cbow = AdditiveModel(space_cbow)"
   ]
  },
  {
   "cell_type": "markdown",
   "metadata": {},
   "source": [
    "Score on the train set:"
   ]
  },
  {
   "cell_type": "code",
   "execution_count": null,
   "metadata": {
    "collapsed": false
   },
   "outputs": [],
   "source": [
    "additive_cbow.fit(pairs)\n",
    "score(additive_cbow, pairs, pos='A')"
   ]
  },
  {
   "cell_type": "markdown",
   "metadata": {},
   "source": [
    "Score using 10-fold CV:"
   ]
  },
  {
   "cell_type": "code",
   "execution_count": null,
   "metadata": {
    "collapsed": false
   },
   "outputs": [],
   "source": [
    "score_cv(additive_cbow, pairs, random_state=42, pos='A', verbose=False)"
   ]
  },
  {
   "cell_type": "markdown",
   "metadata": {},
   "source": [
    "Score using LOOCV:"
   ]
  },
  {
   "cell_type": "code",
   "execution_count": null,
   "metadata": {
    "collapsed": false
   },
   "outputs": [],
   "source": [
    "score_cv(additive_cbow, pairs, random_state=42, pos='A', verbose=False, folds='loocv')"
   ]
  },
  {
   "cell_type": "markdown",
   "metadata": {},
   "source": [
    "# 6 Diff vectors clustering"
   ]
  },
  {
   "cell_type": "code",
   "execution_count": null,
   "metadata": {
    "collapsed": false
   },
   "outputs": [],
   "source": [
    "X, _ = get_diff_vectors(space_cbow, pairs)"
   ]
  },
  {
   "cell_type": "code",
   "execution_count": null,
   "metadata": {
    "collapsed": false
   },
   "outputs": [],
   "source": [
    "shape(X)"
   ]
  },
  {
   "cell_type": "code",
   "execution_count": null,
   "metadata": {
    "collapsed": false
   },
   "outputs": [],
   "source": [
    "from sklearn.cluster import KMeans\n",
    "c = KMeans(n_clusters=2, random_state=42)\n",
    "c.fit(X)\n",
    "y1 = c.predict(X); y1"
   ]
  },
  {
   "cell_type": "code",
   "execution_count": null,
   "metadata": {
    "collapsed": false
   },
   "outputs": [],
   "source": [
    "from sklearn.decomposition import PCA\n",
    "X_2d = PCA(n_components=2).fit_transform(X)\n",
    "scatter(X_2d[:,0], X_2d[:,1], c=c.predict(X), cmap='prism', s=50);"
   ]
  },
  {
   "cell_type": "code",
   "execution_count": null,
   "metadata": {
    "collapsed": false
   },
   "outputs": [],
   "source": [
    "from k_medoids import KMedoids\n",
    "c = KMedoids(n_clusters=2, random_state=42)\n",
    "c.fit(X)\n",
    "y1 = c.predict(X); y1"
   ]
  },
  {
   "cell_type": "code",
   "execution_count": null,
   "metadata": {
    "collapsed": false
   },
   "outputs": [],
   "source": [
    "from sklearn.decomposition import PCA\n",
    "X_2d = PCA(n_components=2).fit_transform(X)\n",
    "scatter(X_2d[:,0], X_2d[:,1], c=c.predict(X), cmap='prism', s=50);"
   ]
  },
  {
   "cell_type": "code",
   "execution_count": null,
   "metadata": {
    "collapsed": false
   },
   "outputs": [],
   "source": [
    "from k_medoids import KMedoids\n",
    "c = KMedoids(n_clusters=2, random_state=42, distance_metric='cosine')\n",
    "c.fit(X)\n",
    "y1 = c.predict(X); y1"
   ]
  },
  {
   "cell_type": "code",
   "execution_count": null,
   "metadata": {
    "collapsed": false
   },
   "outputs": [],
   "source": [
    "from sklearn.decomposition import PCA\n",
    "X_2d = PCA(n_components=2).fit_transform(X)\n",
    "scatter(X_2d[:,0], X_2d[:,1], c=c.predict(X), cmap='prism', s=50);"
   ]
  },
  {
   "cell_type": "code",
   "execution_count": null,
   "metadata": {
    "collapsed": false
   },
   "outputs": [],
   "source": [
    "from sklearn.datasets import make_classification\n",
    "X, _ = make_classification(n_features=2, n_classes=2, n_informative=2, n_redundant=0)"
   ]
  },
  {
   "cell_type": "code",
   "execution_count": null,
   "metadata": {
    "collapsed": false
   },
   "outputs": [],
   "source": [
    "from k_medoids import KMedoids\n",
    "c = KMedoids(n_clusters=2, random_state=42)\n",
    "c.fit(X)\n",
    "y1 = c.predict(X); y1"
   ]
  },
  {
   "cell_type": "code",
   "execution_count": null,
   "metadata": {
    "collapsed": false
   },
   "outputs": [],
   "source": [
    "from sklearn.decomposition import PCA\n",
    "scatter(X[:,0], X[:,1], c=c.predict(X), cmap='prism', s=50);"
   ]
  },
  {
   "cell_type": "code",
   "execution_count": null,
   "metadata": {
    "collapsed": false
   },
   "outputs": [],
   "source": [
    "X = get_base_vectors(space_cbow, pairs)\n",
    "shape(X)"
   ]
  },
  {
   "cell_type": "code",
   "execution_count": null,
   "metadata": {
    "collapsed": false
   },
   "outputs": [],
   "source": [
    "from sklearn import mixture\n",
    "g = mixture.GMM(n_components=3)"
   ]
  },
  {
   "cell_type": "code",
   "execution_count": null,
   "metadata": {
    "collapsed": false
   },
   "outputs": [],
   "source": [
    "g.fit(X)"
   ]
  },
  {
   "cell_type": "code",
   "execution_count": null,
   "metadata": {
    "collapsed": false
   },
   "outputs": [],
   "source": [
    "g.bic(X)"
   ]
  },
  {
   "cell_type": "code",
   "execution_count": null,
   "metadata": {
    "collapsed": false
   },
   "outputs": [],
   "source": [
    "g.predict(X)"
   ]
  },
  {
   "cell_type": "code",
   "execution_count": null,
   "metadata": {
    "collapsed": false
   },
   "outputs": [],
   "source": [
    "import matplotlib.pyplot as plt \n",
    "\n",
    "bic = []\n",
    "aic = []\n",
    "ks = range(1, 6)\n",
    "for k in ks:\n",
    "    g = mixture.GMM(n_components=k).fit(X) \n",
    "    bic.append(g.bic(X))\n",
    "    aic.append(g.aic(X))\n",
    "plt.plot(ks, aic, label=\"AIC\")\n",
    "plt.plot(ks, bic, label=\"BIC\")\n",
    "plt.legend()\n",
    "plt.show()"
   ]
  },
  {
   "cell_type": "code",
   "execution_count": null,
   "metadata": {
    "collapsed": false
   },
   "outputs": [],
   "source": [
    "g = mixture.GMM(n_components=2)\n",
    "g.fit(X)"
   ]
  },
  {
   "cell_type": "code",
   "execution_count": null,
   "metadata": {
    "collapsed": false
   },
   "outputs": [],
   "source": [
    "from sklearn.decomposition import PCA\n",
    "X_2d = PCA(n_components=2).fit_transform(X)\n",
    "scatter(X_2d[:,0], X_2d[:,1], c=g.predict(X), cmap='prism');"
   ]
  },
  {
   "cell_type": "code",
   "execution_count": null,
   "metadata": {
    "collapsed": false
   },
   "outputs": [],
   "source": [
    "pairs1 = pairs[g.predict(X)==0]\n",
    "pairs2 = pairs[g.predict(X)==1]"
   ]
  },
  {
   "cell_type": "code",
   "execution_count": null,
   "metadata": {
    "collapsed": false
   },
   "outputs": [],
   "source": [
    "shape(pairs1)"
   ]
  },
  {
   "cell_type": "code",
   "execution_count": null,
   "metadata": {
    "collapsed": false
   },
   "outputs": [],
   "source": [
    "shape(pairs2)"
   ]
  },
  {
   "cell_type": "code",
   "execution_count": null,
   "metadata": {
    "collapsed": false
   },
   "outputs": [],
   "source": [
    "for w1, w2 in pairs1:\n",
    "    print w1, w2"
   ]
  },
  {
   "cell_type": "code",
   "execution_count": null,
   "metadata": {
    "collapsed": false
   },
   "outputs": [],
   "source": [
    "for w1, w2 in pairs2:\n",
    "    print w1, w2"
   ]
  },
  {
   "cell_type": "code",
   "execution_count": null,
   "metadata": {
    "collapsed": false
   },
   "outputs": [],
   "source": [
    "sp.savetxt(proj_path + \"data/dVA01-bar-cluster1.txt\", pairs1, fmt='%s')\n",
    "sp.savetxt(proj_path + \"data/dVA01-bar-cluster2.txt\", pairs2, fmt='%s')"
   ]
  },
  {
   "cell_type": "code",
   "execution_count": null,
   "metadata": {
    "collapsed": false
   },
   "outputs": [],
   "source": [
    "model1 = AdditiveModel(space_cbow)\n",
    "model2 = AdditiveModel(space_cbow)\n",
    "model1.fit(pairs1)\n",
    "model2.fit(pairs2)"
   ]
  },
  {
   "cell_type": "markdown",
   "metadata": {},
   "source": [
    "Difference between the two diff vectors..."
   ]
  },
  {
   "cell_type": "code",
   "execution_count": null,
   "metadata": {
    "collapsed": false
   },
   "outputs": [],
   "source": [
    "from scipy.spatial.distance import cosine\n",
    "1 - cosine(model1.diff_vector.mat, model2.diff_vector.mat)"
   ]
  },
  {
   "cell_type": "markdown",
   "metadata": {},
   "source": [
    "Model scores on the train set..."
   ]
  },
  {
   "cell_type": "code",
   "execution_count": null,
   "metadata": {
    "collapsed": false
   },
   "outputs": [],
   "source": [
    "score(model1, pairs1, pos='A')"
   ]
  },
  {
   "cell_type": "code",
   "execution_count": null,
   "metadata": {
    "collapsed": false
   },
   "outputs": [],
   "source": [
    "score(model2, pairs2, pos='A')"
   ]
  },
  {
   "cell_type": "markdown",
   "metadata": {},
   "source": [
    "CV score, but optimistic, because test pairs always come from correct cluster..."
   ]
  },
  {
   "cell_type": "code",
   "execution_count": null,
   "metadata": {
    "collapsed": false
   },
   "outputs": [],
   "source": [
    "score_cv(model1, pairs1, random_state=42, pos='A', verbose=False)"
   ]
  },
  {
   "cell_type": "code",
   "execution_count": null,
   "metadata": {
    "collapsed": false
   },
   "outputs": [],
   "source": [
    "score_cv(model2, pairs2, random_state=42, pos='A', verbose=False)"
   ]
  },
  {
   "cell_type": "markdown",
   "metadata": {},
   "source": [
    "### Checking differences between kmeans and gmm"
   ]
  },
  {
   "cell_type": "code",
   "execution_count": null,
   "metadata": {
    "collapsed": false
   },
   "outputs": [],
   "source": [
    "X = sp.random.random((100,300))"
   ]
  },
  {
   "cell_type": "code",
   "execution_count": null,
   "metadata": {
    "collapsed": false
   },
   "outputs": [],
   "source": [
    "c1 = KMeans(n_clusters=2, random_state=42)\n",
    "c1.fit(X)\n",
    "y1 = c1.predict(X)\n",
    "c2 = mixture.GMM(n_components=2, covariance_type='tied', random_state=42)\n",
    "c2.fit(X)\n",
    "y2 = c2.predict(X)\n",
    "y1 == y2"
   ]
  },
  {
   "cell_type": "code",
   "execution_count": null,
   "metadata": {
    "collapsed": false
   },
   "outputs": [],
   "source": [
    "y1"
   ]
  },
  {
   "cell_type": "code",
   "execution_count": null,
   "metadata": {
    "collapsed": false
   },
   "outputs": [],
   "source": [
    "y2"
   ]
  },
  {
   "cell_type": "markdown",
   "metadata": {},
   "source": [
    "=> Generally, gmm and kmeans give different cluster assignments."
   ]
  },
  {
   "cell_type": "markdown",
   "metadata": {},
   "source": [
    "# Cluster+predict model"
   ]
  },
  {
   "cell_type": "markdown",
   "metadata": {},
   "source": [
    "Clustering of diff vectors:"
   ]
  },
  {
   "cell_type": "code",
   "execution_count": null,
   "metadata": {
    "collapsed": false
   },
   "outputs": [],
   "source": [
    "m = ClusterAdditiveModel(space_cbow, n_clusters=3, cluster_select='BasePredictSim', random_state=42)\n",
    "m.fit(pairs, verbose=True)"
   ]
  },
  {
   "cell_type": "code",
   "execution_count": null,
   "metadata": {
    "collapsed": false
   },
   "outputs": [],
   "source": [
    "m.models"
   ]
  },
  {
   "cell_type": "code",
   "execution_count": null,
   "metadata": {
    "collapsed": false
   },
   "outputs": [],
   "source": [
    "v = m.predict_with('kaufen_V', 0)\n",
    "get_neighbors(v, space_cbow, pos='A')"
   ]
  },
  {
   "cell_type": "code",
   "execution_count": null,
   "metadata": {
    "collapsed": false
   },
   "outputs": [],
   "source": [
    "v = m.predict('kaufen_V', verbose=True)\n",
    "get_neighbors(v, space_cbow, pos='A')"
   ]
  },
  {
   "cell_type": "markdown",
   "metadata": {},
   "source": [
    "Clustering of base words (rather than diff vectors):"
   ]
  },
  {
   "cell_type": "code",
   "execution_count": null,
   "metadata": {
    "collapsed": false
   },
   "outputs": [],
   "source": [
    "m = ClusterAdditiveModel(space_cbow, n_clusters='BIC', clustering_instance='BaseWord', cluster_select='BasePredictSim', random_state=42)\n",
    "m.fit(pairs, verbose=True)"
   ]
  },
  {
   "cell_type": "code",
   "execution_count": null,
   "metadata": {
    "collapsed": false
   },
   "outputs": [],
   "source": [
    "v = m.predict('kaufen_V', verbose=True)\n",
    "get_neighbors(v, space_cbow, pos='A')"
   ]
  },
  {
   "cell_type": "code",
   "execution_count": null,
   "metadata": {
    "collapsed": false
   },
   "outputs": [],
   "source": [
    "m = ClusterAdditiveModel(space_cbow, n_clusters='BIC', clustering_instance='BaseWord', cluster_select='BaseClusterSim', random_state=42)\n",
    "m.fit(pairs, verbose=True)"
   ]
  },
  {
   "cell_type": "code",
   "execution_count": null,
   "metadata": {
    "collapsed": false
   },
   "outputs": [],
   "source": [
    "v = m.predict('kaufen_V', verbose=True)\n",
    "get_neighbors(v, space_cbow, pos='A')"
   ]
  },
  {
   "cell_type": "code",
   "execution_count": null,
   "metadata": {
    "collapsed": false
   },
   "outputs": [],
   "source": [
    "sp.linalg.norm(v1.mat)"
   ]
  },
  {
   "cell_type": "code",
   "execution_count": null,
   "metadata": {
    "collapsed": false
   },
   "outputs": [],
   "source": [
    "avg_neighbors_sim(v1, space_cbow, pos='A')"
   ]
  },
  {
   "cell_type": "code",
   "execution_count": null,
   "metadata": {
    "collapsed": false
   },
   "outputs": [],
   "source": [
    "v2 = m.predict_with('kaufen_V', 1)\n",
    "get_neighbors(v2, space_cbow, pos='A')"
   ]
  },
  {
   "cell_type": "code",
   "execution_count": null,
   "metadata": {
    "collapsed": false
   },
   "outputs": [],
   "source": [
    "sp.linalg.norm(v2.mat)"
   ]
  },
  {
   "cell_type": "code",
   "execution_count": null,
   "metadata": {
    "collapsed": false
   },
   "outputs": [],
   "source": [
    "avg_neighbors_sim(v2, space_cbow, pos='A')"
   ]
  },
  {
   "cell_type": "code",
   "execution_count": null,
   "metadata": {
    "collapsed": true
   },
   "outputs": [],
   "source": [
    "#TODO: Think again about vector normalization"
   ]
  },
  {
   "cell_type": "code",
   "execution_count": null,
   "metadata": {
    "collapsed": false
   },
   "outputs": [],
   "source": [
    "m.predict('kaufen_V', verbose=True)"
   ]
  },
  {
   "cell_type": "code",
   "execution_count": null,
   "metadata": {
    "collapsed": false
   },
   "outputs": [],
   "source": [
    "m = ClusterAdditiveModel(space_cbow, n_clusters=2, cluster_select='BasePredictSim', random_state=42)\n",
    "m.fit(pairs)\n",
    "score(m, pairs, verbose=False, pos='A')"
   ]
  },
  {
   "cell_type": "code",
   "execution_count": null,
   "metadata": {
    "collapsed": false
   },
   "outputs": [],
   "source": [
    "m = ClusterAdditiveModel(space_ppmi, n_clusters=2, cluster_select='BasePredictSim', random_state=42)\n",
    "m.fit(pairs)\n",
    "score(m, pairs, verbose=False, pos='A')"
   ]
  },
  {
   "cell_type": "markdown",
   "metadata": {},
   "source": [
    "### CV setup"
   ]
  },
  {
   "cell_type": "code",
   "execution_count": null,
   "metadata": {
    "collapsed": false
   },
   "outputs": [],
   "source": [
    "pairs_train, pairs_holdout = pairs[0:50,:], pairs[50:,:]"
   ]
  },
  {
   "cell_type": "code",
   "execution_count": null,
   "metadata": {
    "collapsed": false
   },
   "outputs": [],
   "source": [
    "shape(pairs_train), shape(pairs_holdout)"
   ]
  },
  {
   "cell_type": "code",
   "execution_count": null,
   "metadata": {
    "collapsed": false
   },
   "outputs": [],
   "source": [
    "m_kmeans = ClusterAdditiveModel(space_cbow, clustering='kmeans', n_clusters=2, cluster_select='BasePredictSim', random_state=42)\n",
    "score_cv(m_kmeans, pairs_train, pos='A', random_state=42, test_pairs_extra=pairs_holdout, verbose=True)"
   ]
  },
  {
   "cell_type": "code",
   "execution_count": null,
   "metadata": {
    "collapsed": false
   },
   "outputs": [],
   "source": [
    "m_kmeans = ClusterAdditiveModel(space_cbow, clustering='kmeans', n_clusters=2, cluster_select='BasePredictSim', random_state=42)\n",
    "score_cv(m_kmeans, pairs, pos='A', random_state=42)"
   ]
  },
  {
   "cell_type": "code",
   "execution_count": null,
   "metadata": {
    "collapsed": false
   },
   "outputs": [],
   "source": [
    "m_kmeans = ClusterAdditiveModel(space_cbow, clustering='kmedoids', n_clusters=2, cluster_select='BasePredictSim', random_state=42)\n",
    "score_cv(m_kmeans, pairs, pos='A', random_state=42)"
   ]
  },
  {
   "cell_type": "code",
   "execution_count": null,
   "metadata": {
    "collapsed": false
   },
   "outputs": [],
   "source": [
    "m_kmeans = ClusterAdditiveModel(space_cbow, clustering='kmeans', n_clusters=2, cluster_select='BaseSim', random_state=66)\n",
    "score_cv(m_kmeans, pairs, pos='A', random_state=66)"
   ]
  },
  {
   "cell_type": "code",
   "execution_count": null,
   "metadata": {
    "collapsed": false
   },
   "outputs": [],
   "source": [
    "m_gmm = ClusterAdditiveModel(space_cbow, clustering='gmm', n_clusters=2, cluster_select='BaseSim', random_state=42)\n",
    "score_cv(m_gmm, pairs, pos='A', random_state=42)"
   ]
  },
  {
   "cell_type": "code",
   "execution_count": null,
   "metadata": {
    "collapsed": false
   },
   "outputs": [],
   "source": [
    "m_gmm = ClusterAdditiveModel(space_cbow, clustering='gmm', n_clusters=2, cluster_select='BaseSim', random_state=42)\n",
    "score_cv(m_gmm, pairs, pos='A', random_state=42)"
   ]
  },
  {
   "cell_type": "code",
   "execution_count": null,
   "metadata": {
    "collapsed": false
   },
   "outputs": [],
   "source": [
    "m_gmm = ClusterAdditiveModel(space_cbow, clustering='gmm', n_clusters=2, cluster_select='BaseSim', random_state=66)\n",
    "score_cv(m_gmm, pairs, pos='A', random_state=66)"
   ]
  },
  {
   "cell_type": "markdown",
   "metadata": {},
   "source": [
    "### Comparing kmeans and gmm"
   ]
  },
  {
   "cell_type": "code",
   "execution_count": null,
   "metadata": {
    "collapsed": false
   },
   "outputs": [],
   "source": [
    "m_gmm = ClusterAdditiveModel(space_cbow, clustering='gmm', n_clusters=2, cluster_select='BaseSim', random_state=42)\n",
    "m_gmm.fit(pairs)\n",
    "y1 = m_gmm.cluster_assignments\n",
    "\n",
    "m_kmeans = ClusterAdditiveModel(space_cbow, clustering='kmeans', n_clusters=2, cluster_select='BaseSim', random_state=42)\n",
    "m_kmeans.fit(pairs)\n",
    "y2 = m_kmeans.cluster_assignments"
   ]
  },
  {
   "cell_type": "code",
   "execution_count": null,
   "metadata": {
    "collapsed": false
   },
   "outputs": [],
   "source": [
    "y1 == y2"
   ]
  },
  {
   "cell_type": "markdown",
   "metadata": {},
   "source": [
    "=> In our case, cluster assignments are equivalent for kmeans and gmm."
   ]
  },
  {
   "cell_type": "markdown",
   "metadata": {},
   "source": [
    "# Exemplar model"
   ]
  },
  {
   "cell_type": "code",
   "execution_count": null,
   "metadata": {
    "collapsed": false
   },
   "outputs": [],
   "source": [
    "m = AdditiveExemplarModel(space_cbow)\n",
    "m.fit(pairs, verbose=True)"
   ]
  },
  {
   "cell_type": "code",
   "execution_count": null,
   "metadata": {
    "collapsed": false
   },
   "outputs": [],
   "source": [
    "v = m.predict('kaufen_V', verbose=True)\n",
    "get_neighbors(v, space_cbow, pos='A')"
   ]
  },
  {
   "cell_type": "code",
   "execution_count": null,
   "metadata": {
    "collapsed": false
   },
   "outputs": [],
   "source": [
    "v = m.predict('singen_V', verbose=True)\n",
    "get_neighbors(v, space_cbow, pos='A')"
   ]
  },
  {
   "cell_type": "code",
   "execution_count": null,
   "metadata": {
    "collapsed": false
   },
   "outputs": [],
   "source": [
    "m = AdditiveExemplarModel(space_ppmi)\n",
    "m.fit(pairs, verbose=True)"
   ]
  },
  {
   "cell_type": "code",
   "execution_count": null,
   "metadata": {
    "collapsed": false
   },
   "outputs": [],
   "source": [
    "v = m.predict('kaufen_V', verbose=True)\n",
    "get_neighbors(v, space_ppmi, pos='A')"
   ]
  },
  {
   "cell_type": "markdown",
   "metadata": {},
   "source": [
    "# 7 Filtering based on GermanWN"
   ]
  },
  {
   "cell_type": "code",
   "execution_count": null,
   "metadata": {
    "collapsed": true
   },
   "outputs": [],
   "source": [
    "# reads in pairs with polysemy level as the first attribute\n",
    "def load_pairs(filename, pos1, pos2):\n",
    "    lines = sp.loadtxt(filename, dtype=str)\n",
    "    return map(lambda x : [int(x[0]), x[1] + \"_V\", x[2] + \"_A\"], lines)"
   ]
  },
  {
   "cell_type": "code",
   "execution_count": null,
   "metadata": {
    "collapsed": false
   },
   "outputs": [],
   "source": [
    "dVA01 = load_pairs(proj_path + \"data/dVA01-bar-data.polysemy\", 'V', 'A')\n",
    "dVA01_pairs = sp.array(dVA01)[:,[1,2]]\n",
    "dVA01_monosemous_pairs = sp.array([(w1,w2) for (p, w1, w2) in dVA01 if p<=1])"
   ]
  },
  {
   "cell_type": "code",
   "execution_count": null,
   "metadata": {
    "collapsed": false
   },
   "outputs": [],
   "source": [
    "dVA01_monosemous_pairs"
   ]
  },
  {
   "cell_type": "code",
   "execution_count": null,
   "metadata": {
    "collapsed": false
   },
   "outputs": [],
   "source": [
    "len(dVA01_monosemous_pairs)"
   ]
  },
  {
   "cell_type": "code",
   "execution_count": null,
   "metadata": {
    "collapsed": false
   },
   "outputs": [],
   "source": [
    "baseline_cbow = BaselineModel(space_cbow)\n",
    "score_cv(baseline_cbow, dVA01_monosemous_pairs, pos='A')"
   ]
  },
  {
   "cell_type": "code",
   "execution_count": null,
   "metadata": {
    "collapsed": false
   },
   "outputs": [],
   "source": [
    "additive_cbow = AdditiveModel(space_cbow)\n",
    "additive_cbow.fit(dVA01_monosemous_pairs)\n",
    "score_cv(additive_cbow, dVA01_monosemous_pairs, pos='A')"
   ]
  },
  {
   "cell_type": "code",
   "execution_count": null,
   "metadata": {
    "collapsed": false
   },
   "outputs": [],
   "source": [
    "cluster_additive_cbow = ClusterAdditiveModel(space_cbow, n_clusters='BIC', cluster_select='BaseSim', random_state=42)\n",
    "cluster_additive_cbow.fit(dVA01_monosemous_pairs, verbose=True)\n",
    "score_cv(cluster_additive_cbow, dVA01_monosemous_pairs, random_state=42, pos='A', verbose=False)"
   ]
  },
  {
   "cell_type": "code",
   "execution_count": null,
   "metadata": {
    "collapsed": false
   },
   "outputs": [],
   "source": [
    "for k in range(3, 7):\n",
    "    print('\\nk=%d' % k)\n",
    "    cluster_additive_cbow = ClusterAdditiveModel(space_cbow, n_clusters=k, cluster_select='BaseSim', random_state=42)\n",
    "    cluster_additive_cbow.fit(dVA01_monosemous_pairs, verbose=True)\n",
    "    print score_cv(cluster_additive_cbow, dVA01_monosemous_pairs, random_state=42, pos='A', verbose=False)"
   ]
  },
  {
   "cell_type": "markdown",
   "metadata": {},
   "source": [
    "### Filtering based on InvCL"
   ]
  },
  {
   "cell_type": "code",
   "execution_count": null,
   "metadata": {
    "collapsed": true
   },
   "outputs": [],
   "source": [
    "# reads in pairs with inclusion data (invCL)\n",
    "# File format is:\n",
    "#   offenbar_A offenbaren_V clarkeDE: 0.134455726236 invCL: 0.328609106994\n",
    "def load_pairs(filename):\n",
    "    lines = sp.loadtxt(filename, dtype=str)\n",
    "    return map(lambda x : [float(x[5]), x[1], x[0]], lines)"
   ]
  },
  {
   "cell_type": "code",
   "execution_count": null,
   "metadata": {
    "collapsed": true
   },
   "outputs": [],
   "source": [
    "dVA01 = load_pairs(proj_path + \"data/dVA01-bar-data.inclusion\")\n",
    "dVA01_pairs = sp.array(dVA01)[:,[1,2]]\n",
    "dVA01_inclusive_pairs = sp.array([(w1,w2) for (i, w1, w2) in dVA01 if i>=0.72])"
   ]
  },
  {
   "cell_type": "code",
   "execution_count": null,
   "metadata": {
    "collapsed": false
   },
   "outputs": [],
   "source": [
    "dVA01_inclusive_pairs"
   ]
  },
  {
   "cell_type": "code",
   "execution_count": null,
   "metadata": {
    "collapsed": false
   },
   "outputs": [],
   "source": [
    "len(xs)"
   ]
  },
  {
   "cell_type": "code",
   "execution_count": null,
   "metadata": {
    "collapsed": false
   },
   "outputs": [],
   "source": [
    "baseline_cbow = BaselineModel(space_cbow)\n",
    "score_cv(baseline_cbow, dVA01_inclusive_pairs, pos='A')"
   ]
  },
  {
   "cell_type": "code",
   "execution_count": null,
   "metadata": {
    "collapsed": false
   },
   "outputs": [],
   "source": [
    "additive_cbow = AdditiveModel(space_cbow)\n",
    "additive_cbow.fit(dVA01_inclusive_pairs)\n",
    "score_cv(additive_cbow, dVA01_inclusive_pairs, pos='A')"
   ]
  },
  {
   "cell_type": "code",
   "execution_count": null,
   "metadata": {
    "collapsed": false
   },
   "outputs": [],
   "source": [
    "cluster_additive_cbow = ClusterAdditiveModel(space_cbow, n_clusters='BIC', cluster_select='BaseSim', random_state=42)\n",
    "cluster_additive_cbow.fit(dVA01_inclusive_pairs, verbose=True)\n",
    "score_cv(cluster_additive_cbow, dVA01_inclusive_pairs, random_state=42, pos='A', verbose=False)"
   ]
  },
  {
   "cell_type": "code",
   "execution_count": null,
   "metadata": {
    "collapsed": false
   },
   "outputs": [],
   "source": [
    "for k in range(3, 7):\n",
    "    print('k=%d' % k)\n",
    "    cluster_additive_cbow = ClusterAdditiveModel(space_cbow, n_clusters=k, cluster_select='BaseSim', random_state=42)\n",
    "    cluster_additive_cbow.fit(dVA01_inclusive_pairs, verbose=True)\n",
    "    print score_cv(cluster_additive_cbow, dVA01_inclusive_pairs, random_state=42, pos='A', verbose=False)"
   ]
  },
  {
   "cell_type": "markdown",
   "metadata": {},
   "source": [
    "### Filtering based on Polysemy + InvCL"
   ]
  },
  {
   "cell_type": "code",
   "execution_count": null,
   "metadata": {
    "collapsed": false
   },
   "outputs": [],
   "source": [
    "sp.intersect1d(dVA01_monosemous_pairs, dVA01_inclusive_pairs)"
   ]
  },
  {
   "cell_type": "markdown",
   "metadata": {},
   "source": [
    "### Pandas dataframe"
   ]
  },
  {
   "cell_type": "code",
   "execution_count": null,
   "metadata": {
    "collapsed": true
   },
   "outputs": [],
   "source": [
    "pairs_df = pd.read_csv(proj_path + \"data/pairs.txt\", sep=' ')"
   ]
  },
  {
   "cell_type": "code",
   "execution_count": null,
   "metadata": {
    "collapsed": false
   },
   "outputs": [],
   "source": [
    "pairs_df"
   ]
  },
  {
   "cell_type": "code",
   "execution_count": null,
   "metadata": {
    "collapsed": false
   },
   "outputs": [],
   "source": [
    "dVA01_wellbehaved_df = pairs_df[conjunction(pairs_df.pattern=='dVA01', pairs_df.polysemy<=1, pairs_df.invCL>=0.5)]\n",
    "dVA01_wellbehaved_df"
   ]
  },
  {
   "cell_type": "code",
   "execution_count": null,
   "metadata": {
    "collapsed": false
   },
   "outputs": [],
   "source": [
    "len(_)"
   ]
  },
  {
   "cell_type": "code",
   "execution_count": null,
   "metadata": {
    "collapsed": false
   },
   "outputs": [],
   "source": [
    "dVA01_wellbehaved_pairs = sp.array(pairs_wellbehaved_df[['word1', 'word2']])\n",
    "dVA01_wellbehaved_pairs"
   ]
  },
  {
   "cell_type": "code",
   "execution_count": null,
   "metadata": {
    "collapsed": false
   },
   "outputs": [],
   "source": [
    "baseline_cbow = BaselineModel(space_cbow)\n",
    "score_cv(baseline_cbow, dVA01_wellbehaved_pairs, pos='A', folds=len(dVA01_wellbehaved_pairs))"
   ]
  },
  {
   "cell_type": "code",
   "execution_count": null,
   "metadata": {
    "collapsed": false
   },
   "outputs": [],
   "source": [
    "additive_cbow = AdditiveModel(space_cbow)\n",
    "additive_cbow.fit(dVA01_wellbehaved_pairs)\n",
    "score_cv(additive_cbow, dVA01_wellbehaved_pairs, pos='A', folds=len(dVA01_wellbehaved_pairs))"
   ]
  },
  {
   "cell_type": "code",
   "execution_count": null,
   "metadata": {
    "collapsed": false
   },
   "outputs": [],
   "source": [
    "cluster_additive_cbow = ClusterAdditiveModel(space_cbow, n_clusters='BIC', cluster_select='BaseSim', random_state=42)\n",
    "cluster_additive_cbow.fit(dVA01_wellbehaved_pairs, verbose=True)\n",
    "score_cv(cluster_additive_cbow, dVA01_wellbehaved_pairs, random_state=42, pos='A', verbose=False, folds=len(dVA01_wellbehaved_pairs))"
   ]
  },
  {
   "cell_type": "code",
   "execution_count": null,
   "metadata": {
    "collapsed": false
   },
   "outputs": [],
   "source": [
    "for k in range(3, 7):\n",
    "    print('k=%d' % k)\n",
    "    cluster_additive_cbow = ClusterAdditiveModel(space_cbow, n_clusters=k, cluster_select='BaseSim', random_state=42)\n",
    "    cluster_additive_cbow.fit(dVA01_wellbehaved_pairs, verbose=True)\n",
    "    print score_cv(cluster_additive_cbow, dVA01_wellbehaved_pairs, random_state=42, pos='A', verbose=False, folds=len(dVA01_wellbehaved_pairs))"
   ]
  },
  {
   "cell_type": "markdown",
   "metadata": {},
   "source": [
    "# 8 Grand experiment"
   ]
  },
  {
   "cell_type": "code",
   "execution_count": null,
   "metadata": {
    "collapsed": true
   },
   "outputs": [],
   "source": [
    "def pattern_pos(pattern): return (pattern[1], pattern[2])"
   ]
  },
  {
   "cell_type": "code",
   "execution_count": null,
   "metadata": {
    "collapsed": false
   },
   "outputs": [],
   "source": [
    "pattern_pos('dVV31')"
   ]
  },
  {
   "cell_type": "code",
   "execution_count": null,
   "metadata": {
    "collapsed": true
   },
   "outputs": [],
   "source": [
    "def avg_invCL(pairs_df, pattern):\n",
    "    return pairs_df[pairs_df.pattern == pattern]['invCL'].median()"
   ]
  },
  {
   "cell_type": "code",
   "execution_count": null,
   "metadata": {
    "collapsed": false
   },
   "outputs": [],
   "source": [
    "avg_invCL(pairs_df, 'dAA02') "
   ]
  },
  {
   "cell_type": "code",
   "execution_count": null,
   "metadata": {
    "collapsed": false
   },
   "outputs": [],
   "source": [
    "# For a given pattern, fetches rows from a dataframe that satisfy the given poysemy and invCL thresholds.\n",
    "# Returns two dataframes: one containing rows that satisfy the conditions and one containing those that don't.\n",
    "def partition_pairs(pairs_df, pattern, polysemy_threshold=None, invCL_threshold=None, only_pairs=False):\n",
    "    \n",
    "    def get_pairs(df): return sp.array(df[['word1','word2']])\n",
    "    \n",
    "    ix0 = sp.logical_and(pairs_df.polysemy <= polysemy_threshold if polysemy_threshold != None else True,\n",
    "                         pairs_df.invCL >= invCL_threshold if invCL_threshold != None else True)\n",
    "    ix1 = sp.logical_and(pairs_df.pattern == pattern, ix0)\n",
    "    ix2 = sp.logical_and(pairs_df.pattern == pattern, ~ix0)\n",
    "    \n",
    "    if only_pairs:\n",
    "        return get_pairs(pairs_df[ix1]), get_pairs(pairs_df[ix2])\n",
    "    else:\n",
    "        return pairs_df[ix1], pairs_df[ix2]"
   ]
  },
  {
   "cell_type": "code",
   "execution_count": null,
   "metadata": {
    "collapsed": false
   },
   "outputs": [],
   "source": [
    "df1, df2 = partition_pairs(pairs_df, 'dAA02', polysemy_threshold=1, invCL_threshold=0.5)"
   ]
  },
  {
   "cell_type": "code",
   "execution_count": null,
   "metadata": {
    "collapsed": false
   },
   "outputs": [],
   "source": [
    "print df1.shape, df2.shape"
   ]
  },
  {
   "cell_type": "code",
   "execution_count": null,
   "metadata": {
    "collapsed": false
   },
   "outputs": [],
   "source": [
    "df1"
   ]
  },
  {
   "cell_type": "code",
   "execution_count": null,
   "metadata": {
    "collapsed": false
   },
   "outputs": [],
   "source": [
    "df2"
   ]
  },
  {
   "cell_type": "code",
   "execution_count": null,
   "metadata": {
    "collapsed": false
   },
   "outputs": [],
   "source": [
    "def eval_pattern(space, pairs_df, pattern, folds=10, random_state=None, verbose=False):\n",
    "\n",
    "    models = [\n",
    "        ('Baseline', BaselineModel(space)), \n",
    "        ('Additive', AdditiveModel(space)),\n",
    "        ('AdditiveExemplar', AdditiveExemplarModel(space))] + \\\n",
    "        [('CluAdditive (DiffVectors, kmeans, k=%d, BasePredictSim)' % k, \n",
    "         ClusterAdditiveModel(space, clustering_instance='DiffVector', clustering='kmeans', n_clusters=k, cluster_select='BasePredictSim', random_state=random_state)) \n",
    "         for k in range(2,6)] + \\\n",
    "        [('CluAdditive (BaseWord, kmeans, k=%d, BasePredictSim)' % k, \n",
    "         ClusterAdditiveModel(space, clustering_instance='BaseWord', clustering='kmeans', n_clusters=k, cluster_select='BasePredictSim', random_state=random_state)) \n",
    "         for k in range(2,6)] + \\\n",
    "        [('CluAdditive (BaseWord, kmeans, k=%d, BaseClusterSim)' % k, \n",
    "         ClusterAdditiveModel(space, clustering_instance='BaseWord', clustering='kmeans', n_clusters=k, cluster_select='BaseClusterSim', random_state=random_state)) \n",
    "         for k in range(2,6)]\n",
    "            \n",
    "    pairs_all, _ = partition_pairs(pairs_df, pattern, only_pairs=True)\n",
    "    pairs_mono1, pairs_mono0 = partition_pairs(pairs_df, pattern, polysemy_threshold=1, only_pairs=True)\n",
    "    pairs_incl1, pairs_incl0 = partition_pairs(pairs_df, pattern, invCL_threshold=0.5, only_pairs=True)\n",
    "    pairs_monoincl1, pairs_monoincl0 = partition_pairs(pairs_df, pattern, polysemy_threshold=1, invCL_threshold=0.5, only_pairs=True)\n",
    "\n",
    "    _, deriv_pos = pattern_pos(pattern)\n",
    "\n",
    "    data = [\n",
    "        ('All', pairs_all, None),\n",
    "        ('Mono', pairs_mono1, None),\n",
    "        ('Incl', pairs_incl1, None),\n",
    "        ('MonoIncl', pairs_monoincl1, None),\n",
    "        ('Mono', pairs_mono1, pairs_mono0),\n",
    "        ('Incl', pairs_incl1, pairs_incl0),\n",
    "        ('MonoIncl', pairs_monoincl1, pairs_monoincl0)]\n",
    "\n",
    "    model_names = [n for n, _ in models]\n",
    "    data_names = ['%s (%s:%d+%d)' % (pattern, pairs_name, len(pairs_train), \n",
    "                                     len(pairs_extra_test) if pairs_extra_test != None else 0)\n",
    "                  for pairs_name, pairs_train, pairs_extra_test in data]\n",
    "    scores_df = pd.DataFrame(index=model_names, columns=data_names)\n",
    "    \n",
    "    for data_name, (_, pairs_train, pairs_extra_test) in zip(data_names, data):\n",
    "        if verbose:\n",
    "            print('Data: %s' % data_name)\n",
    "        for model_name, model in models:\n",
    "            _, rof, rof_error = score_cv(model, pairs_train, test_pairs_extra=pairs_extra_test,\n",
    "                                         pos=deriv_pos, folds=folds, random_state=random_state)\n",
    "            scores_df[data_name][model_name] = '%.3f ± %.2f' % (rof, rof_error)\n",
    "            if verbose:\n",
    "                print('  %s: %.3f ± %.2f' % (model_name, rof, rof_error))\n",
    "    \n",
    "    return scores_df"
   ]
  },
  {
   "cell_type": "code",
   "execution_count": null,
   "metadata": {
    "collapsed": false
   },
   "outputs": [],
   "source": [
    "df = eval_pattern(space_cbow, pairs_df, 'dAA02', folds=10, random_state=42); df"
   ]
  },
  {
   "cell_type": "code",
   "execution_count": null,
   "metadata": {
    "collapsed": false
   },
   "outputs": [],
   "source": [
    "pd.unique(pairs_df['pattern'])"
   ]
  },
  {
   "cell_type": "code",
   "execution_count": null,
   "metadata": {
    "collapsed": false
   },
   "outputs": [],
   "source": [
    "patterns = pd.unique(pairs_df['pattern'])\n",
    "writer = pd.ExcelWriter('PolysemyDerivation-cbow-norm.xlsx')\n",
    "\n",
    "for pattern in patterns:\n",
    "    df = eval_pattern(space_cbow_norm, pairs_df, pattern, folds=10, random_state=42, verbose=True)\n",
    "    df.to_excel(writer, pattern)\n",
    "    writer.save()\n",
    "    display(df)"
   ]
  },
  {
   "cell_type": "code",
   "execution_count": null,
   "metadata": {
    "collapsed": false
   },
   "outputs": [],
   "source": [
    "patterns = pd.unique(pairs_df['pattern'])\n",
    "writer = pd.ExcelWriter('PolysemyDerivation-ppmi.xlsx')\n",
    "\n",
    "for pattern in patterns:\n",
    "    df = eval_pattern(space_ppmi, pairs_df, pattern, folds=10, random_state=42)\n",
    "    df.to_excel(writer, pattern)\n",
    "    writer.save()\n",
    "    display(df)"
   ]
  },
  {
   "cell_type": "markdown",
   "metadata": {},
   "source": [
    "# Test"
   ]
  },
  {
   "cell_type": "code",
   "execution_count": null,
   "metadata": {
    "collapsed": true
   },
   "outputs": [],
   "source": [
    "def median_invCL(pairs_df, pattern):\n",
    "    return pairs_df[pairs_df.pattern == pattern]['invCL'].median()"
   ]
  },
  {
   "cell_type": "code",
   "execution_count": null,
   "metadata": {
    "collapsed": true
   },
   "outputs": [],
   "source": [
    "def pattern_pos(pattern): return (pattern[1], pattern[2])\n",
    "\n",
    "# For a given pattern, fetches rows from a dataframe that satisfy the given poysemy and invCL thresholds.\n",
    "# Returns two dataframes: one containing rows that satisfy the conditions and one containing those that don't.\n",
    "def partition_pairs(pairs_df, pattern, polysemy_threshold=None, invCL_threshold=None, only_pairs=False):\n",
    "\n",
    "    def get_pairs(df): return sp.array(df[['word1','word2']])\n",
    "\n",
    "    ix0 = sp.logical_and(pairs_df.polysemy <= polysemy_threshold if polysemy_threshold != None else True,\n",
    "                         pairs_df.invCL >= invCL_threshold if invCL_threshold != None else True)\n",
    "    ix1 = sp.logical_and(pairs_df.pattern == pattern, ix0)\n",
    "    ix2 = sp.logical_and(pairs_df.pattern == pattern, ~ix0)\n",
    "\n",
    "    if only_pairs:\n",
    "        return get_pairs(pairs_df[ix1]), get_pairs(pairs_df[ix2])\n",
    "    else:\n",
    "        return pairs_df[ix1], pairs_df[ix2]\n"
   ]
  },
  {
   "cell_type": "markdown",
   "metadata": {},
   "source": [
    "Data: dAV01 (MonoIncl:46+59)\n",
    " CluAdditive (BaseWord, kmeans, k=3, BaseClusterSim): 0.495 ± 0.12\n",
    " /proj/sci/b9/modality/ipython/k_medoids.py:176: UserWarning: Cluster 2 is empty!"
   ]
  },
  {
   "cell_type": "markdown",
   "metadata": {},
   "source": [
    "Data: dAV04 (All:185+0)\n",
    "CluAdditive (BaseWord, kmedoids, k=2, BasePredictSim): 0.351 ± 0.06"
   ]
  },
  {
   "cell_type": "code",
   "execution_count": null,
   "metadata": {
    "collapsed": false
   },
   "outputs": [],
   "source": [
    "pairs_df = pd.read_csv('/home/jan/b9-modality/data/pairs-XX/pairs-AV.txt', sep=' ')"
   ]
  },
  {
   "cell_type": "code",
   "execution_count": null,
   "metadata": {
    "collapsed": false
   },
   "outputs": [],
   "source": [
    "pattern = 'dAV04'\n",
    "folds = 10\n",
    "\n",
    "invCL_median = median_invCL(pairs_df, pattern)\n",
    "\n",
    "pairs_all, _ = partition_pairs(pairs_df, pattern, only_pairs=True)\n",
    "pairs_mono1, pairs_mono0 = partition_pairs(pairs_df, pattern, polysemy_threshold=1, only_pairs=True)\n",
    "pairs_incl1, pairs_incl0 = partition_pairs(pairs_df, pattern, invCL_threshold=invCL_median, only_pairs=True)\n",
    "pairs_monoincl1, pairs_monoincl0 = partition_pairs(pairs_df, pattern, polysemy_threshold=1, invCL_threshold=invCL_median, only_pairs=True)\n",
    "pairs_train = pairs_all\n",
    "pairs_extra_test = None\n",
    "\n",
    "_, deriv_pos = pattern_pos(pattern)\n",
    "\n",
    "model = ClusterAdditiveModel(space_cbow_norm, clustering_instance='BaseWord', clustering='kmedoids', n_clusters=3, cluster_select='BasePredictSim', random_state=42)\n",
    "\n",
    "_, rof, rof_error = score_cv(model, pairs_train, test_pairs_extra=pairs_extra_test, pos=deriv_pos, folds=folds, random_state=42)\n",
    "print('%.3f ± %.2f' % (rof, rof_error))"
   ]
  },
  {
   "cell_type": "code",
   "execution_count": null,
   "metadata": {
    "collapsed": true
   },
   "outputs": [],
   "source": [
    "test_ix = [9, 18, 29, 30, 55, 56,  60,  65,  66,  75, 113, 119, 124, 126, 135, 146, 165, 170, 176]\n",
    "train_ix = sp.delete(sp.arange(0,185), test_ix)\n",
    "train_pairs = pairs_train[train_ix]\n",
    "test_pairs = pairs_train[test_ix]"
   ]
  },
  {
   "cell_type": "code",
   "execution_count": null,
   "metadata": {
    "collapsed": false
   },
   "outputs": [],
   "source": [
    "len(train_pairs), len(test_pairs)"
   ]
  },
  {
   "cell_type": "code",
   "execution_count": null,
   "metadata": {
    "collapsed": false
   },
   "outputs": [],
   "source": [
    "X = get_base_vectors(space_cbow_norm, train_pairs)\n",
    "Y = get_base_vectors(space_cbow_norm, test_pairs)"
   ]
  },
  {
   "cell_type": "code",
   "execution_count": null,
   "metadata": {
    "collapsed": false
   },
   "outputs": [],
   "source": [
    "sp.shape(X)"
   ]
  },
  {
   "cell_type": "code",
   "execution_count": null,
   "metadata": {
    "collapsed": true
   },
   "outputs": [],
   "source": [
    "X = get_base_vectors(self.space, train_pairs)"
   ]
  },
  {
   "cell_type": "code",
   "execution_count": null,
   "metadata": {
    "collapsed": false
   },
   "outputs": [],
   "source": [
    "c = KMedoids(n_clusters=3, random_state=42, distance_metric='cosine')"
   ]
  },
  {
   "cell_type": "code",
   "execution_count": null,
   "metadata": {
    "collapsed": false
   },
   "outputs": [],
   "source": [
    "c.fit(X)"
   ]
  },
  {
   "cell_type": "code",
   "execution_count": null,
   "metadata": {
    "collapsed": false
   },
   "outputs": [],
   "source": [
    "c.predict(X)"
   ]
  },
  {
   "cell_type": "code",
   "execution_count": null,
   "metadata": {
    "collapsed": false
   },
   "outputs": [],
   "source": [
    "c.predict(Y)"
   ]
  },
  {
   "cell_type": "code",
   "execution_count": null,
   "metadata": {
    "collapsed": false
   },
   "outputs": [],
   "source": [
    "v = space_cbow_norm.get_row('Hund_N') + DenseMatrix(sp.zeros(1))"
   ]
  },
  {
   "cell_type": "code",
   "execution_count": null,
   "metadata": {
    "collapsed": false
   },
   "outputs": [],
   "source": [
    "v.mat == space_cbow_norm.get_row('Hund_N').mat"
   ]
  },
  {
   "cell_type": "code",
   "execution_count": null,
   "metadata": {
    "collapsed": false
   },
   "outputs": [],
   "source": [
    "space_cbow_norm.get_row('Hund_N').mat"
   ]
  },
  {
   "cell_type": "code",
   "execution_count": null,
   "metadata": {
    "collapsed": false
   },
   "outputs": [],
   "source": [
    "v.mat"
   ]
  },
  {
   "cell_type": "code",
   "execution_count": null,
   "metadata": {
    "collapsed": false
   },
   "outputs": [],
   "source": [
    "eval_pattern(space_cbow, pairs_df, 'dAV04', random_state=42, verbose=True)"
   ]
  },
  {
   "cell_type": "markdown",
   "metadata": {},
   "source": [
    "Data: dAV04 (All:185+0)\n",
    "  Baseline: 0.362 ± 0.06\n",
    "  Additive: 0.367 ± 0.07\n",
    "  AdditiveExemplar: 0.167 ± 0.05\n",
    "  CluAdditive (DiffVectors, kmeans, k=2, BasePredictSim): 0.340 ± 0.05\n",
    "  CluAdditive (DiffVectors, kmeans, k=3, BasePredictSim): 0.367 ± 0.07\n",
    "  CluAdditive (DiffVectors, kmeans, k=4, BasePredictSim): 0.345 ± 0.05\n",
    "  CluAdditive (DiffVectors, kmeans, k=5, BasePredictSim): 0.351 ± 0.06\n",
    "  CluAdditive (DiffVectors, kmedoids, k=2, BasePredictSim): 0.351 ± 0.07\n",
    "  CluAdditive (DiffVectors, kmedoids, k=3, BasePredictSim): 0.346 ± 0.06\n",
    "  CluAdditive (DiffVectors, kmedoids, k=4, BasePredictSim): 0.345 ± 0.06\n",
    "  CluAdditive (DiffVectors, kmedoids, k=5, BasePredictSim): 0.323 ± 0.07\n",
    "  CluAdditive (BaseWord, kmeans, k=2, BasePredictSim): 0.356 ± 0.06\n",
    "  CluAdditive (BaseWord, kmeans, k=3, BasePredictSim): 0.356 ± 0.07\n",
    "  CluAdditive (BaseWord, kmeans, k=4, BasePredictSim): 0.361 ± 0.08\n",
    "  CluAdditive (BaseWord, kmeans, k=5, BasePredictSim): 0.351 ± 0.06\n",
    "  CluAdditive (BaseWord, kmedoids, k=2, BasePredictSim): 0.351 ± 0.06\n",
    "Traceback (most recent call last):\n",
    "  File \"EvalPatterns.py\", line 122, in <module>\n"
   ]
  },
  {
   "cell_type": "markdown",
   "metadata": {},
   "source": [
    "# Pooled results (2x2 design)"
   ]
  },
  {
   "cell_type": "code",
   "execution_count": null,
   "metadata": {
    "collapsed": false
   },
   "outputs": [],
   "source": [
    "m = ClusterAdditiveModel(space_cbow_norm, clustering_instance='BaseWord', clustering='kmedoids', n_clusters='AIC', cluster_select='BaseClusterSim', random_state=42)\n",
    "m.fit(pairs, verbose=True)\n",
    "#score(m, pairs, verbose=False, pos='A')"
   ]
  },
  {
   "cell_type": "code",
   "execution_count": null,
   "metadata": {
    "collapsed": true
   },
   "outputs": [],
   "source": [
    "_, rof, rof_error = score_cv(model, pairs_train, test_pairs_extra=pairs_extra_test,\n",
    "                                         pos=deriv_pos, folds=folds, random_state=random_state)"
   ]
  },
  {
   "cell_type": "code",
   "execution_count": null,
   "metadata": {
    "collapsed": true
   },
   "outputs": [],
   "source": [
    "-"
   ]
  },
  {
   "cell_type": "code",
   "execution_count": null,
   "metadata": {
    "collapsed": true
   },
   "outputs": [],
   "source": [
    "pairs_df = pd.read_csv(proj_path + \"data/all/pairs-all.txt\", sep=' ')"
   ]
  },
  {
   "cell_type": "code",
   "execution_count": null,
   "metadata": {
    "collapsed": false
   },
   "outputs": [],
   "source": [
    "r = eval_pattern_2(space_cbow_norm, pairs_df, 'dAA03', random_state=42, verbose=True); r"
   ]
  },
  {
   "cell_type": "code",
   "execution_count": null,
   "metadata": {
    "collapsed": false
   },
   "outputs": [],
   "source": [
    "from IPython.display import display\n",
    "import os\n",
    "path = proj_path + 'ipython/results2/'\n",
    "xs = os.listdir(path)\n",
    "d = pd.read_excel(path + xs[0])\n",
    "for x in xs[1:]:\n",
    "    d2 = pd.read_excel(path + x)\n",
    "    d = d.add(d2)\n",
    "d"
   ]
  },
  {
   "cell_type": "code",
   "execution_count": null,
   "metadata": {
    "collapsed": false
   },
   "outputs": [],
   "source": [
    "d / d['All']['n_pairs']"
   ]
  },
  {
   "cell_type": "code",
   "execution_count": null,
   "metadata": {
    "collapsed": true
   },
   "outputs": [],
   "source": [
    "zs = ['dAN03', 'dAN04', 'dAN09', 'dAN10', 'dAN11', 'dAN12', 'dAN16', 'dNA01', 'dNA02', 'dNA05', 'dNA06', 'dNA25', 'dNA26', 'dNA27', 'dNV09', 'dVA02', 'dVA03', 'dVA12', 'dVA13', 'dVN07', 'dVN09']"
   ]
  },
  {
   "cell_type": "code",
   "execution_count": null,
   "metadata": {
    "collapsed": false
   },
   "outputs": [],
   "source": [
    "ws = [x for x in xs if not any([z in x for z in zs])]"
   ]
  },
  {
   "cell_type": "code",
   "execution_count": null,
   "metadata": {
    "collapsed": false
   },
   "outputs": [],
   "source": [
    "from IPython.display import display\n",
    "import os\n",
    "d = pd.read_excel(path + ws[0])\n",
    "for w in ws[1:]:\n",
    "    d2 = pd.read_excel(path + w)\n",
    "    d = d.add(d2)\n",
    "d"
   ]
  },
  {
   "cell_type": "code",
   "execution_count": null,
   "metadata": {
    "collapsed": false
   },
   "outputs": [],
   "source": [
    "d / d['All']['n_pairs']"
   ]
  },
  {
   "cell_type": "markdown",
   "metadata": {},
   "source": [
    "### TODO (24 Jan 2016)\n",
    "\n",
    "* <strike>Fix score_cv</strike>\n",
    "* <strike>Implement POS filter in the scoring functions</strike>\n",
    "* <strike>invCL filtering</strike>\n",
    "* <strike>Put all word pairs data into a single Pandas dataframe</strike>\n",
    "* <strike>Check clustering variance</strike>\n",
    "* Implement oracles\n",
    "* <strike>Stability of GMM (initial centroids)</strike>\n",
    "* <strike>GMM parameters (maybe use full cov matrix?)</strike>\n",
    "* <strike>Implement k-nn instead of GMM</strike>\n",
    "* <strike>All patterns</strike>\n",
    "* <strike>Train on subset, predict on all</strike>\n",
    "* <strike>Exemplar model</strike>\n",
    "* <strike>Base-centroid cluster selection</strike>\n",
    "* <strike>**Grand experiment**</strike>\n",
    "* <strike>Cluter base word</strike>\n",
    "* <strike>Check gmm vs kmeans results</strike>\n",
    "* <strike>Fix margin of error for LOOCV</strike>\n",
    "* Evaluate with a count-based model"
   ]
  },
  {
   "cell_type": "markdown",
   "metadata": {},
   "source": [
    "### Vector plausibility\n",
    "\n",
    "* Vecchi et al 2011. (http://aclweb.org/anthology/W/W11/W11-1301.pdf)\n",
    "\n",
    "\n",
    "1. Vector length\n",
    "\n",
    "2. Similarity to base verb vector\n",
    "\n",
    "3. Avg/median similarity to N nearest neighbors\n",
    "\n",
    "\n"
   ]
  },
  {
   "cell_type": "markdown",
   "metadata": {
    "collapsed": true
   },
   "source": [
    "### Oracles\n",
    "\n",
    "* n_clusters:\n",
    "  * the number of clusters that maximizes RooN\n",
    "\n",
    "* cluster_select:\n",
    "  * choose the cluster that maximizes RooN (if there is such)\n",
    "  * compute the gold diff vector and choose the cluster which maximizes the class likelihood"
   ]
  }
 ],
 "metadata": {
  "kernelspec": {
   "display_name": "Python 2",
   "language": "python",
   "name": "python2"
  },
  "language_info": {
   "codemirror_mode": {
    "name": "ipython",
    "version": 2
   },
   "file_extension": ".py",
   "mimetype": "text/x-python",
   "name": "python",
   "nbconvert_exporter": "python",
   "pygments_lexer": "ipython2",
   "version": "2.7.11+"
  }
 },
 "nbformat": 4,
 "nbformat_minor": 0
}
